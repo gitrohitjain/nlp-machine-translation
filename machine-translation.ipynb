{
 "cells": [
  {
   "cell_type": "code",
   "execution_count": 1,
   "metadata": {
    "colab": {
     "base_uri": "https://localhost:8080/"
    },
    "id": "NTDxVFVQ_Yq5",
    "outputId": "880590e9-433a-4a4b-9c6a-f45f117bc81f"
   },
   "outputs": [
    {
     "name": "stdout",
     "output_type": "stream",
     "text": [
      "Requirement already satisfied: torchtext==0.6.0 in /usr/local/lib/python3.6/dist-packages (0.6.0)\n",
      "Requirement already satisfied: numpy in /usr/local/lib/python3.6/dist-packages (from torchtext==0.6.0) (1.18.5)\n",
      "Requirement already satisfied: tqdm in /usr/local/lib/python3.6/dist-packages (from torchtext==0.6.0) (4.41.1)\n",
      "Requirement already satisfied: sentencepiece in /usr/local/lib/python3.6/dist-packages (from torchtext==0.6.0) (0.1.94)\n",
      "Requirement already satisfied: requests in /usr/local/lib/python3.6/dist-packages (from torchtext==0.6.0) (2.23.0)\n",
      "Requirement already satisfied: six in /usr/local/lib/python3.6/dist-packages (from torchtext==0.6.0) (1.15.0)\n",
      "Requirement already satisfied: torch in /usr/local/lib/python3.6/dist-packages (from torchtext==0.6.0) (1.7.0+cu101)\n",
      "Requirement already satisfied: urllib3!=1.25.0,!=1.25.1,<1.26,>=1.21.1 in /usr/local/lib/python3.6/dist-packages (from requests->torchtext==0.6.0) (1.24.3)\n",
      "Requirement already satisfied: chardet<4,>=3.0.2 in /usr/local/lib/python3.6/dist-packages (from requests->torchtext==0.6.0) (3.0.4)\n",
      "Requirement already satisfied: certifi>=2017.4.17 in /usr/local/lib/python3.6/dist-packages (from requests->torchtext==0.6.0) (2020.6.20)\n",
      "Requirement already satisfied: idna<3,>=2.5 in /usr/local/lib/python3.6/dist-packages (from requests->torchtext==0.6.0) (2.10)\n",
      "Requirement already satisfied: dataclasses in /usr/local/lib/python3.6/dist-packages (from torch->torchtext==0.6.0) (0.7)\n",
      "Requirement already satisfied: typing-extensions in /usr/local/lib/python3.6/dist-packages (from torch->torchtext==0.6.0) (3.7.4.3)\n",
      "Requirement already satisfied: future in /usr/local/lib/python3.6/dist-packages (from torch->torchtext==0.6.0) (0.16.0)\n",
      "\u001b[38;5;2m✔ Download and installation successful\u001b[0m\n",
      "You can now load the model via spacy.load('de_core_news_sm')\n",
      "\u001b[38;5;2m✔ Linking successful\u001b[0m\n",
      "/usr/local/lib/python3.6/dist-packages/de_core_news_sm -->\n",
      "/usr/local/lib/python3.6/dist-packages/spacy/data/de\n",
      "You can now load the model via spacy.load('de')\n"
     ]
    }
   ],
   "source": [
    "!pip install torchtext==0.6.0\n",
    "!python -m spacy download de --quiet"
   ]
  },
  {
   "cell_type": "code",
   "execution_count": 2,
   "metadata": {
    "colab": {
     "base_uri": "https://localhost:8080/"
    },
    "id": "ZW1b0emd_k1o",
    "outputId": "02456eaa-2669-4643-95c9-3791f36ebfad"
   },
   "outputs": [
    {
     "name": "stdout",
     "output_type": "stream",
     "text": [
      "device: cuda\n",
      "---------------------------------------------------------\n",
      "[Epoch 1 / 100]\n",
      "Input German sentence: ein boot mit mehreren männern darauf wird von einem großen pferdegespann ans ufer gezogen.\n"
     ]
    },
    {
     "name": "stderr",
     "output_type": "stream",
     "text": [
      "\r",
      "  0%|          | 0/454 [00:00<?, ?it/s]"
     ]
    },
    {
     "name": "stdout",
     "output_type": "stream",
     "text": [
      "\n",
      "Translated Sentence: chased motorbikes worked leg bedroom language enthusiast haircut motorbikes motorbikes ankle train leg overlook bringing pass pass deer pouting taught hammers husband hawaiian runway runway op squash squash haircut haircut bringing cutouts bandanna train electrical bandanna chased bracelet travel bracelet pass east closer sodas sodas range ultimate promoting starting starting\n"
     ]
    },
    {
     "name": "stderr",
     "output_type": "stream",
     "text": [
      "100%|██████████| 454/454 [01:39<00:00,  4.56it/s]\n",
      "100%|██████████| 16/16 [00:00<00:00, 16.08it/s]\n"
     ]
    },
    {
     "name": "stdout",
     "output_type": "stream",
     "text": [
      "Epoch train loss: 4.552114026662012, validation loss: 4.427948445081711\n",
      "---------------------------------------------------------\n",
      "[Epoch 2 / 100]\n",
      "Input German sentence: ein boot mit mehreren männern darauf wird von einem großen pferdegespann ans ufer gezogen.\n"
     ]
    },
    {
     "name": "stderr",
     "output_type": "stream",
     "text": [
      "\r",
      "  0%|          | 0/454 [00:00<?, ?it/s]"
     ]
    },
    {
     "name": "stdout",
     "output_type": "stream",
     "text": [
      "\n",
      "Translated Sentence: a person in a red shirt is a a a a a . <eos>\n"
     ]
    },
    {
     "name": "stderr",
     "output_type": "stream",
     "text": [
      "100%|██████████| 454/454 [01:39<00:00,  4.57it/s]\n",
      "100%|██████████| 16/16 [00:00<00:00, 16.10it/s]\n"
     ]
    },
    {
     "name": "stdout",
     "output_type": "stream",
     "text": [
      "Epoch train loss: 3.8371363279577917, validation loss: 4.087276369333267\n",
      "---------------------------------------------------------\n",
      "[Epoch 3 / 100]\n",
      "Input German sentence: ein boot mit mehreren männern darauf wird von einem großen pferdegespann ans ufer gezogen.\n"
     ]
    },
    {
     "name": "stderr",
     "output_type": "stream",
     "text": [
      "  0%|          | 1/454 [00:00<01:28,  5.10it/s]"
     ]
    },
    {
     "name": "stdout",
     "output_type": "stream",
     "text": [
      "\n",
      "Translated Sentence: a <unk> with a <unk> <unk> <unk> to a a a a . <eos>\n"
     ]
    },
    {
     "name": "stderr",
     "output_type": "stream",
     "text": [
      "100%|██████████| 454/454 [01:39<00:00,  4.58it/s]\n",
      "100%|██████████| 16/16 [00:00<00:00, 16.14it/s]\n"
     ]
    },
    {
     "name": "stdout",
     "output_type": "stream",
     "text": [
      "Epoch train loss: 3.486964161700614, validation loss: 3.950990006327629\n",
      "---------------------------------------------------------\n",
      "[Epoch 4 / 100]\n",
      "Input German sentence: ein boot mit mehreren männern darauf wird von einem großen pferdegespann ans ufer gezogen.\n"
     ]
    },
    {
     "name": "stderr",
     "output_type": "stream",
     "text": [
      "  0%|          | 1/454 [00:00<01:20,  5.64it/s]"
     ]
    },
    {
     "name": "stdout",
     "output_type": "stream",
     "text": [
      "\n",
      "Translated Sentence: a man with his <unk> is being is to a a a a . . <eos>\n"
     ]
    },
    {
     "name": "stderr",
     "output_type": "stream",
     "text": [
      "100%|██████████| 454/454 [01:39<00:00,  4.57it/s]\n",
      "100%|██████████| 16/16 [00:00<00:00, 16.13it/s]\n"
     ]
    },
    {
     "name": "stdout",
     "output_type": "stream",
     "text": [
      "Epoch train loss: 3.207238862693047, validation loss: 3.805962383747101\n",
      "---------------------------------------------------------\n",
      "[Epoch 5 / 100]\n",
      "Input German sentence: ein boot mit mehreren männern darauf wird von einem großen pferdegespann ans ufer gezogen.\n"
     ]
    },
    {
     "name": "stderr",
     "output_type": "stream",
     "text": [
      "\r",
      "  0%|          | 0/454 [00:00<?, ?it/s]"
     ]
    },
    {
     "name": "stdout",
     "output_type": "stream",
     "text": [
      "\n",
      "Translated Sentence: a man with with a is to to a a a a a . <eos>\n"
     ]
    },
    {
     "name": "stderr",
     "output_type": "stream",
     "text": [
      "100%|██████████| 454/454 [01:39<00:00,  4.56it/s]\n",
      "100%|██████████| 16/16 [00:00<00:00, 16.17it/s]\n"
     ]
    },
    {
     "name": "stdout",
     "output_type": "stream",
     "text": [
      "Epoch train loss: 3.015099972880359, validation loss: 3.684499502182007\n",
      "---------------------------------------------------------\n",
      "[Epoch 6 / 100]\n",
      "Input German sentence: ein boot mit mehreren männern darauf wird von einem großen pferdegespann ans ufer gezogen.\n"
     ]
    },
    {
     "name": "stderr",
     "output_type": "stream",
     "text": [
      "\r",
      "  0%|          | 0/454 [00:00<?, ?it/s]"
     ]
    },
    {
     "name": "stdout",
     "output_type": "stream",
     "text": [
      "\n",
      "Translated Sentence: a man with with his <unk> is being pulled by a large building . <eos>\n"
     ]
    },
    {
     "name": "stderr",
     "output_type": "stream",
     "text": [
      "100%|██████████| 454/454 [01:40<00:00,  4.53it/s]\n",
      "100%|██████████| 16/16 [00:00<00:00, 16.15it/s]\n"
     ]
    },
    {
     "name": "stdout",
     "output_type": "stream",
     "text": [
      "Epoch train loss: 2.812271167528262, validation loss: 3.6694392412900925\n",
      "---------------------------------------------------------\n",
      "[Epoch 7 / 100]\n",
      "Input German sentence: ein boot mit mehreren männern darauf wird von einem großen pferdegespann ans ufer gezogen.\n"
     ]
    },
    {
     "name": "stderr",
     "output_type": "stream",
     "text": [
      "\r",
      "  0%|          | 0/454 [00:00<?, ?it/s]"
     ]
    },
    {
     "name": "stdout",
     "output_type": "stream",
     "text": [
      "\n",
      "Translated Sentence: a police officer with a from a large of by a large of . <eos>\n"
     ]
    },
    {
     "name": "stderr",
     "output_type": "stream",
     "text": [
      "100%|██████████| 454/454 [01:40<00:00,  4.52it/s]\n",
      "100%|██████████| 16/16 [00:00<00:00, 16.11it/s]\n"
     ]
    },
    {
     "name": "stdout",
     "output_type": "stream",
     "text": [
      "Epoch train loss: 2.639204194104619, validation loss: 3.6221058070659637\n",
      "---------------------------------------------------------\n",
      "[Epoch 8 / 100]\n",
      "Input German sentence: ein boot mit mehreren männern darauf wird von einem großen pferdegespann ans ufer gezogen.\n"
     ]
    },
    {
     "name": "stderr",
     "output_type": "stream",
     "text": [
      "\r",
      "  0%|          | 0/454 [00:00<?, ?it/s]"
     ]
    },
    {
     "name": "stdout",
     "output_type": "stream",
     "text": [
      "\n",
      "Translated Sentence: a man with his large pulled from a large of a large large . . <eos>\n"
     ]
    },
    {
     "name": "stderr",
     "output_type": "stream",
     "text": [
      "100%|██████████| 454/454 [01:40<00:00,  4.53it/s]\n",
      "100%|██████████| 16/16 [00:00<00:00, 16.10it/s]\n"
     ]
    },
    {
     "name": "stdout",
     "output_type": "stream",
     "text": [
      "Epoch train loss: 2.494860152578564, validation loss: 3.661468744277954\n",
      "---------------------------------------------------------\n",
      "[Epoch 9 / 100]\n",
      "Input German sentence: ein boot mit mehreren männern darauf wird von einem großen pferdegespann ans ufer gezogen.\n"
     ]
    },
    {
     "name": "stderr",
     "output_type": "stream",
     "text": [
      "\r",
      "  0%|          | 0/454 [00:00<?, ?it/s]"
     ]
    },
    {
     "name": "stdout",
     "output_type": "stream",
     "text": [
      "\n",
      "Translated Sentence: a man with a large pulled is pulled from a large large large large large . . <eos>\n"
     ]
    },
    {
     "name": "stderr",
     "output_type": "stream",
     "text": [
      "100%|██████████| 454/454 [01:40<00:00,  4.52it/s]\n",
      "100%|██████████| 16/16 [00:00<00:00, 16.14it/s]\n"
     ]
    },
    {
     "name": "stdout",
     "output_type": "stream",
     "text": [
      "Epoch train loss: 2.3436578089445175, validation loss: 3.6462595611810684\n",
      "---------------------------------------------------------\n",
      "[Epoch 10 / 100]\n",
      "Input German sentence: ein boot mit mehreren männern darauf wird von einem großen pferdegespann ans ufer gezogen.\n"
     ]
    },
    {
     "name": "stderr",
     "output_type": "stream",
     "text": [
      "\r",
      "  0%|          | 0/454 [00:00<?, ?it/s]"
     ]
    },
    {
     "name": "stdout",
     "output_type": "stream",
     "text": [
      "\n",
      "Translated Sentence: a man wearing a gear is being pulled by a large large large large large . . <eos>\n"
     ]
    },
    {
     "name": "stderr",
     "output_type": "stream",
     "text": [
      "100%|██████████| 454/454 [01:40<00:00,  4.52it/s]\n",
      "100%|██████████| 16/16 [00:00<00:00, 16.14it/s]\n"
     ]
    },
    {
     "name": "stdout",
     "output_type": "stream",
     "text": [
      "Epoch train loss: 2.2302930042607145, validation loss: 3.657915949821472\n",
      "---------------------------------------------------------\n",
      "[Epoch 11 / 100]\n",
      "Input German sentence: ein boot mit mehreren männern darauf wird von einem großen pferdegespann ans ufer gezogen.\n"
     ]
    },
    {
     "name": "stderr",
     "output_type": "stream",
     "text": [
      "\r",
      "  0%|          | 0/454 [00:00<?, ?it/s]"
     ]
    },
    {
     "name": "stdout",
     "output_type": "stream",
     "text": [
      "\n",
      "Translated Sentence: a boat with <unk> , pulled by a large men of men from a large rock . <eos>\n"
     ]
    },
    {
     "name": "stderr",
     "output_type": "stream",
     "text": [
      "100%|██████████| 454/454 [01:40<00:00,  4.53it/s]\n",
      "100%|██████████| 16/16 [00:00<00:00, 16.22it/s]\n"
     ]
    },
    {
     "name": "stdout",
     "output_type": "stream",
     "text": [
      "Epoch train loss: 2.099811835961195, validation loss: 3.764033317565918\n",
      "---------------------------------------------------------\n",
      "[Epoch 12 / 100]\n",
      "Input German sentence: ein boot mit mehreren männern darauf wird von einem großen pferdegespann ans ufer gezogen.\n"
     ]
    },
    {
     "name": "stderr",
     "output_type": "stream",
     "text": [
      "\r",
      "  0%|          | 0/454 [00:00<?, ?it/s]"
     ]
    },
    {
     "name": "stdout",
     "output_type": "stream",
     "text": [
      "\n",
      "Translated Sentence: a boat with <unk> pulled pulled from a large large large large large . <eos>\n"
     ]
    },
    {
     "name": "stderr",
     "output_type": "stream",
     "text": [
      "100%|██████████| 454/454 [01:40<00:00,  4.54it/s]\n",
      "100%|██████████| 16/16 [00:00<00:00, 16.23it/s]\n"
     ]
    },
    {
     "name": "stdout",
     "output_type": "stream",
     "text": [
      "Epoch train loss: 1.9840543968561988, validation loss: 3.7603461295366287\n",
      "---------------------------------------------------------\n",
      "[Epoch 13 / 100]\n",
      "Input German sentence: ein boot mit mehreren männern darauf wird von einem großen pferdegespann ans ufer gezogen.\n"
     ]
    },
    {
     "name": "stderr",
     "output_type": "stream",
     "text": [
      "\r",
      "  0%|          | 0/454 [00:00<?, ?it/s]"
     ]
    },
    {
     "name": "stdout",
     "output_type": "stream",
     "text": [
      "\n",
      "Translated Sentence: a boat with a pulled pulled pulled by a large of large large . <eos>\n"
     ]
    },
    {
     "name": "stderr",
     "output_type": "stream",
     "text": [
      "100%|██████████| 454/454 [01:40<00:00,  4.53it/s]\n",
      "100%|██████████| 16/16 [00:00<00:00, 16.07it/s]\n"
     ]
    },
    {
     "name": "stdout",
     "output_type": "stream",
     "text": [
      "Epoch train loss: 1.901815243754618, validation loss: 3.819209724664688\n",
      "---------------------------------------------------------\n",
      "[Epoch 14 / 100]\n",
      "Input German sentence: ein boot mit mehreren männern darauf wird von einem großen pferdegespann ans ufer gezogen.\n"
     ]
    },
    {
     "name": "stderr",
     "output_type": "stream",
     "text": [
      "  0%|          | 1/454 [00:00<01:24,  5.37it/s]"
     ]
    },
    {
     "name": "stdout",
     "output_type": "stream",
     "text": [
      "\n",
      "Translated Sentence: a boat with <unk> is being pulled by a large by a large rock . <eos>\n"
     ]
    },
    {
     "name": "stderr",
     "output_type": "stream",
     "text": [
      "100%|██████████| 454/454 [01:40<00:00,  4.54it/s]\n",
      "100%|██████████| 16/16 [00:00<00:00, 16.10it/s]\n"
     ]
    },
    {
     "name": "stdout",
     "output_type": "stream",
     "text": [
      "Epoch train loss: 1.8061890947398636, validation loss: 3.8376790434122086\n",
      "---------------------------------------------------------\n",
      "[Epoch 15 / 100]\n",
      "Input German sentence: ein boot mit mehreren männern darauf wird von einem großen pferdegespann ans ufer gezogen.\n"
     ]
    },
    {
     "name": "stderr",
     "output_type": "stream",
     "text": [
      "\r",
      "  0%|          | 0/454 [00:00<?, ?it/s]"
     ]
    },
    {
     "name": "stdout",
     "output_type": "stream",
     "text": [
      "\n",
      "Translated Sentence: a boat with several men is pulled from a large rock from a large rock . <eos>\n"
     ]
    },
    {
     "name": "stderr",
     "output_type": "stream",
     "text": [
      "100%|██████████| 454/454 [01:40<00:00,  4.51it/s]\n",
      "100%|██████████| 16/16 [00:00<00:00, 16.08it/s]\n"
     ]
    },
    {
     "name": "stdout",
     "output_type": "stream",
     "text": [
      "Epoch train loss: 1.7165277723698888, validation loss: 3.8178951889276505\n",
      "---------------------------------------------------------\n",
      "[Epoch 16 / 100]\n",
      "Input German sentence: ein boot mit mehreren männern darauf wird von einem großen pferdegespann ans ufer gezogen.\n"
     ]
    },
    {
     "name": "stderr",
     "output_type": "stream",
     "text": [
      "\r",
      "  0%|          | 0/454 [00:00<?, ?it/s]"
     ]
    },
    {
     "name": "stdout",
     "output_type": "stream",
     "text": [
      "\n",
      "Translated Sentence: a boat with several men pulled pulled pulled pulled from a large rock rock rock . <eos>\n"
     ]
    },
    {
     "name": "stderr",
     "output_type": "stream",
     "text": [
      "100%|██████████| 454/454 [01:40<00:00,  4.51it/s]\n",
      "100%|██████████| 16/16 [00:00<00:00, 16.09it/s]\n"
     ]
    },
    {
     "name": "stdout",
     "output_type": "stream",
     "text": [
      "Epoch train loss: 1.6363439868462768, validation loss: 3.8949677646160126\n",
      "---------------------------------------------------------\n",
      "[Epoch 17 / 100]\n",
      "Input German sentence: ein boot mit mehreren männern darauf wird von einem großen pferdegespann ans ufer gezogen.\n"
     ]
    },
    {
     "name": "stderr",
     "output_type": "stream",
     "text": [
      "\r",
      "  0%|          | 0/454 [00:00<?, ?it/s]"
     ]
    },
    {
     "name": "stdout",
     "output_type": "stream",
     "text": [
      "\n",
      "Translated Sentence: a boat with several men is thrown from a large rock from a large rock . <eos>\n"
     ]
    },
    {
     "name": "stderr",
     "output_type": "stream",
     "text": [
      "100%|██████████| 454/454 [01:40<00:00,  4.51it/s]\n",
      "100%|██████████| 16/16 [00:00<00:00, 16.11it/s]\n"
     ]
    },
    {
     "name": "stdout",
     "output_type": "stream",
     "text": [
      "Epoch train loss: 1.5702713961643269, validation loss: 3.9484209567308426\n",
      "---------------------------------------------------------\n",
      "[Epoch 18 / 100]\n",
      "Input German sentence: ein boot mit mehreren männern darauf wird von einem großen pferdegespann ans ufer gezogen.\n"
     ]
    },
    {
     "name": "stderr",
     "output_type": "stream",
     "text": [
      "\r",
      "  0%|          | 0/454 [00:00<?, ?it/s]"
     ]
    },
    {
     "name": "stdout",
     "output_type": "stream",
     "text": [
      "\n",
      "Translated Sentence: a boat with several men is thrown by a large pile of large fish . <eos>\n"
     ]
    },
    {
     "name": "stderr",
     "output_type": "stream",
     "text": [
      "100%|██████████| 454/454 [01:40<00:00,  4.52it/s]\n",
      "100%|██████████| 16/16 [00:00<00:00, 16.14it/s]\n"
     ]
    },
    {
     "name": "stdout",
     "output_type": "stream",
     "text": [
      "Epoch train loss: 1.482491247323116, validation loss: 4.0102346539497375\n",
      "---------------------------------------------------------\n",
      "[Epoch 19 / 100]\n",
      "Input German sentence: ein boot mit mehreren männern darauf wird von einem großen pferdegespann ans ufer gezogen.\n"
     ]
    },
    {
     "name": "stderr",
     "output_type": "stream",
     "text": [
      "\r",
      "  0%|          | 0/454 [00:00<?, ?it/s]"
     ]
    },
    {
     "name": "stdout",
     "output_type": "stream",
     "text": [
      "\n",
      "Translated Sentence: a boat with several men is pulled by a large by a large rock . <eos>\n"
     ]
    },
    {
     "name": "stderr",
     "output_type": "stream",
     "text": [
      "100%|██████████| 454/454 [01:40<00:00,  4.53it/s]\n",
      "100%|██████████| 16/16 [00:00<00:00, 16.13it/s]\n"
     ]
    },
    {
     "name": "stdout",
     "output_type": "stream",
     "text": [
      "Epoch train loss: 1.4256326432795252, validation loss: 4.058061212301254\n",
      "---------------------------------------------------------\n",
      "[Epoch 20 / 100]\n",
      "Input German sentence: ein boot mit mehreren männern darauf wird von einem großen pferdegespann ans ufer gezogen.\n"
     ]
    },
    {
     "name": "stderr",
     "output_type": "stream",
     "text": [
      "\r",
      "  0%|          | 0/454 [00:00<?, ?it/s]"
     ]
    },
    {
     "name": "stdout",
     "output_type": "stream",
     "text": [
      "\n",
      "Translated Sentence: a boat carrying several men is pulled from a large , by a large rock horses . <eos>\n"
     ]
    },
    {
     "name": "stderr",
     "output_type": "stream",
     "text": [
      "100%|██████████| 454/454 [01:40<00:00,  4.53it/s]\n",
      "100%|██████████| 16/16 [00:00<00:00, 16.02it/s]\n"
     ]
    },
    {
     "name": "stdout",
     "output_type": "stream",
     "text": [
      "Epoch train loss: 1.3603364164871266, validation loss: 4.108389645814896\n",
      "---------------------------------------------------------\n",
      "[Epoch 21 / 100]\n",
      "Input German sentence: ein boot mit mehreren männern darauf wird von einem großen pferdegespann ans ufer gezogen.\n"
     ]
    },
    {
     "name": "stderr",
     "output_type": "stream",
     "text": [
      "\r",
      "  0%|          | 0/454 [00:00<?, ?it/s]"
     ]
    },
    {
     "name": "stdout",
     "output_type": "stream",
     "text": [
      "\n",
      "Translated Sentence: a boat with several men is pulled pulled by a large <unk> gate . <eos>\n"
     ]
    },
    {
     "name": "stderr",
     "output_type": "stream",
     "text": [
      "100%|██████████| 454/454 [01:40<00:00,  4.53it/s]\n",
      "100%|██████████| 16/16 [00:00<00:00, 16.16it/s]\n"
     ]
    },
    {
     "name": "stdout",
     "output_type": "stream",
     "text": [
      "Epoch train loss: 1.3000675258657481, validation loss: 4.200683459639549\n",
      "---------------------------------------------------------\n",
      "[Epoch 22 / 100]\n",
      "Input German sentence: ein boot mit mehreren männern darauf wird von einem großen pferdegespann ans ufer gezogen.\n"
     ]
    },
    {
     "name": "stderr",
     "output_type": "stream",
     "text": [
      "\r",
      "  0%|          | 0/454 [00:00<?, ?it/s]"
     ]
    },
    {
     "name": "stdout",
     "output_type": "stream",
     "text": [
      "\n",
      "Translated Sentence: a boat with several men is pulled by a large gate by a large rock horses . <eos>\n"
     ]
    },
    {
     "name": "stderr",
     "output_type": "stream",
     "text": [
      "100%|██████████| 454/454 [01:40<00:00,  4.53it/s]\n",
      "100%|██████████| 16/16 [00:00<00:00, 16.07it/s]\n"
     ]
    },
    {
     "name": "stdout",
     "output_type": "stream",
     "text": [
      "Epoch train loss: 1.233778146460718, validation loss: 4.247585982084274\n",
      "---------------------------------------------------------\n",
      "[Epoch 23 / 100]\n",
      "Input German sentence: ein boot mit mehreren männern darauf wird von einem großen pferdegespann ans ufer gezogen.\n"
     ]
    },
    {
     "name": "stderr",
     "output_type": "stream",
     "text": [
      "\r",
      "  0%|          | 0/454 [00:00<?, ?it/s]"
     ]
    },
    {
     "name": "stdout",
     "output_type": "stream",
     "text": [
      "\n",
      "Translated Sentence: a boat with several men is pulled by a large pile of wooden fish . <eos>\n"
     ]
    },
    {
     "name": "stderr",
     "output_type": "stream",
     "text": [
      "100%|██████████| 454/454 [01:40<00:00,  4.52it/s]\n",
      "100%|██████████| 16/16 [00:00<00:00, 16.12it/s]\n"
     ]
    },
    {
     "name": "stdout",
     "output_type": "stream",
     "text": [
      "Epoch train loss: 1.199680511515571, validation loss: 4.274130687117577\n",
      "---------------------------------------------------------\n",
      "[Epoch 24 / 100]\n",
      "Input German sentence: ein boot mit mehreren männern darauf wird von einem großen pferdegespann ans ufer gezogen.\n"
     ]
    },
    {
     "name": "stderr",
     "output_type": "stream",
     "text": [
      "\r",
      "  0%|          | 0/454 [00:00<?, ?it/s]"
     ]
    },
    {
     "name": "stdout",
     "output_type": "stream",
     "text": [
      "\n",
      "Translated Sentence: a boat with several men is pulled by a large by a large gray horses . <eos>\n"
     ]
    },
    {
     "name": "stderr",
     "output_type": "stream",
     "text": [
      "100%|██████████| 454/454 [01:40<00:00,  4.53it/s]\n",
      "100%|██████████| 16/16 [00:00<00:00, 16.09it/s]\n"
     ]
    },
    {
     "name": "stdout",
     "output_type": "stream",
     "text": [
      "Epoch train loss: 1.1337062025253992, validation loss: 4.368064731359482\n",
      "---------------------------------------------------------\n",
      "[Epoch 25 / 100]\n",
      "Input German sentence: ein boot mit mehreren männern darauf wird von einem großen pferdegespann ans ufer gezogen.\n"
     ]
    },
    {
     "name": "stderr",
     "output_type": "stream",
     "text": [
      "\r",
      "  0%|          | 0/454 [00:00<?, ?it/s]"
     ]
    },
    {
     "name": "stdout",
     "output_type": "stream",
     "text": [
      "\n",
      "Translated Sentence: a boat carrying several several men pulled pulled by a large by a large <unk> horses . <eos>\n"
     ]
    },
    {
     "name": "stderr",
     "output_type": "stream",
     "text": [
      "100%|██████████| 454/454 [01:40<00:00,  4.52it/s]\n",
      "100%|██████████| 16/16 [00:00<00:00, 16.15it/s]\n"
     ]
    },
    {
     "name": "stdout",
     "output_type": "stream",
     "text": [
      "Epoch train loss: 1.097169696890835, validation loss: 4.428635627031326\n",
      "---------------------------------------------------------\n",
      "[Epoch 26 / 100]\n",
      "Input German sentence: ein boot mit mehreren männern darauf wird von einem großen pferdegespann ans ufer gezogen.\n"
     ]
    },
    {
     "name": "stderr",
     "output_type": "stream",
     "text": [
      "  0%|          | 1/454 [00:00<01:21,  5.56it/s]"
     ]
    },
    {
     "name": "stdout",
     "output_type": "stream",
     "text": [
      "\n",
      "Translated Sentence: a boat carrying several men is pulled by a large , by a large <unk> horses . <eos>\n"
     ]
    },
    {
     "name": "stderr",
     "output_type": "stream",
     "text": [
      "100%|██████████| 454/454 [01:40<00:00,  4.53it/s]\n",
      "100%|██████████| 16/16 [00:00<00:00, 16.20it/s]\n"
     ]
    },
    {
     "name": "stdout",
     "output_type": "stream",
     "text": [
      "Epoch train loss: 1.044686012659304, validation loss: 4.453779950737953\n",
      "---------------------------------------------------------\n",
      "[Epoch 27 / 100]\n",
      "Input German sentence: ein boot mit mehreren männern darauf wird von einem großen pferdegespann ans ufer gezogen.\n"
     ]
    },
    {
     "name": "stderr",
     "output_type": "stream",
     "text": [
      "\r",
      "  0%|          | 0/454 [00:00<?, ?it/s]"
     ]
    },
    {
     "name": "stdout",
     "output_type": "stream",
     "text": [
      "\n",
      "Translated Sentence: a boat carrying several <unk> is pulled by a large , by a large rock horses . <eos>\n"
     ]
    },
    {
     "name": "stderr",
     "output_type": "stream",
     "text": [
      "100%|██████████| 454/454 [01:40<00:00,  4.53it/s]\n",
      "100%|██████████| 16/16 [00:00<00:00, 16.18it/s]\n"
     ]
    },
    {
     "name": "stdout",
     "output_type": "stream",
     "text": [
      "Epoch train loss: 1.0030175678530453, validation loss: 4.510302200913429\n",
      "---------------------------------------------------------\n",
      "[Epoch 28 / 100]\n",
      "Input German sentence: ein boot mit mehreren männern darauf wird von einem großen pferdegespann ans ufer gezogen.\n"
     ]
    },
    {
     "name": "stderr",
     "output_type": "stream",
     "text": [
      "\r",
      "  0%|          | 0/454 [00:00<?, ?it/s]"
     ]
    },
    {
     "name": "stdout",
     "output_type": "stream",
     "text": [
      "\n",
      "Translated Sentence: a boat carrying several men is pulled by a large by a large <unk> . horses . <eos>\n"
     ]
    },
    {
     "name": "stderr",
     "output_type": "stream",
     "text": [
      "100%|██████████| 454/454 [01:40<00:00,  4.54it/s]\n",
      "100%|██████████| 16/16 [00:00<00:00, 16.13it/s]\n"
     ]
    },
    {
     "name": "stdout",
     "output_type": "stream",
     "text": [
      "Epoch train loss: 0.9644712776864678, validation loss: 4.533944517374039\n",
      "---------------------------------------------------------\n",
      "[Epoch 29 / 100]\n",
      "Input German sentence: ein boot mit mehreren männern darauf wird von einem großen pferdegespann ans ufer gezogen.\n"
     ]
    },
    {
     "name": "stderr",
     "output_type": "stream",
     "text": [
      "\r",
      "  0%|          | 0/454 [00:00<?, ?it/s]"
     ]
    },
    {
     "name": "stdout",
     "output_type": "stream",
     "text": [
      "\n",
      "Translated Sentence: a boat carrying several men is pulled by a a large by a large <unk> . horses . <eos>\n"
     ]
    },
    {
     "name": "stderr",
     "output_type": "stream",
     "text": [
      "100%|██████████| 454/454 [01:40<00:00,  4.54it/s]\n",
      "100%|██████████| 16/16 [00:00<00:00, 16.13it/s]\n"
     ]
    },
    {
     "name": "stdout",
     "output_type": "stream",
     "text": [
      "Epoch train loss: 0.9200238350467009, validation loss: 4.614818334579468\n",
      "---------------------------------------------------------\n",
      "[Epoch 30 / 100]\n",
      "Input German sentence: ein boot mit mehreren männern darauf wird von einem großen pferdegespann ans ufer gezogen.\n"
     ]
    },
    {
     "name": "stderr",
     "output_type": "stream",
     "text": [
      "\r",
      "  0%|          | 0/454 [00:00<?, ?it/s]"
     ]
    },
    {
     "name": "stdout",
     "output_type": "stream",
     "text": [
      "\n",
      "Translated Sentence: a boat carrying several men is pulled by a large by a large <unk> horses . <eos>\n"
     ]
    },
    {
     "name": "stderr",
     "output_type": "stream",
     "text": [
      "100%|██████████| 454/454 [01:40<00:00,  4.53it/s]\n",
      "100%|██████████| 16/16 [00:00<00:00, 16.15it/s]\n"
     ]
    },
    {
     "name": "stdout",
     "output_type": "stream",
     "text": [
      "Epoch train loss: 0.8887912837156641, validation loss: 4.651524096727371\n",
      "---------------------------------------------------------\n",
      "[Epoch 31 / 100]\n",
      "Input German sentence: ein boot mit mehreren männern darauf wird von einem großen pferdegespann ans ufer gezogen.\n"
     ]
    },
    {
     "name": "stderr",
     "output_type": "stream",
     "text": [
      "\r",
      "  0%|          | 0/454 [00:00<?, ?it/s]"
     ]
    },
    {
     "name": "stdout",
     "output_type": "stream",
     "text": [
      "\n",
      "Translated Sentence: a boat carrying several men is pulled by a gate by a large <unk> horses . <eos>\n"
     ]
    },
    {
     "name": "stderr",
     "output_type": "stream",
     "text": [
      "100%|██████████| 454/454 [01:40<00:00,  4.52it/s]\n",
      "100%|██████████| 16/16 [00:00<00:00, 16.16it/s]\n"
     ]
    },
    {
     "name": "stdout",
     "output_type": "stream",
     "text": [
      "Epoch train loss: 0.8541027034431827, validation loss: 4.697298139333725\n",
      "---------------------------------------------------------\n",
      "[Epoch 32 / 100]\n",
      "Input German sentence: ein boot mit mehreren männern darauf wird von einem großen pferdegespann ans ufer gezogen.\n"
     ]
    },
    {
     "name": "stderr",
     "output_type": "stream",
     "text": [
      "\r",
      "  0%|          | 0/454 [00:00<?, ?it/s]"
     ]
    },
    {
     "name": "stdout",
     "output_type": "stream",
     "text": [
      "\n",
      "Translated Sentence: a boat carrying several men is pulled from from a large tree . <eos>\n"
     ]
    },
    {
     "name": "stderr",
     "output_type": "stream",
     "text": [
      "100%|██████████| 454/454 [01:40<00:00,  4.53it/s]\n",
      "100%|██████████| 16/16 [00:00<00:00, 16.03it/s]\n"
     ]
    },
    {
     "name": "stdout",
     "output_type": "stream",
     "text": [
      "Epoch train loss: 0.8257890626262988, validation loss: 4.760626405477524\n",
      "---------------------------------------------------------\n",
      "[Epoch 33 / 100]\n",
      "Input German sentence: ein boot mit mehreren männern darauf wird von einem großen pferdegespann ans ufer gezogen.\n"
     ]
    },
    {
     "name": "stderr",
     "output_type": "stream",
     "text": [
      "\r",
      "  0%|          | 0/454 [00:00<?, ?it/s]"
     ]
    },
    {
     "name": "stdout",
     "output_type": "stream",
     "text": [
      "\n",
      "Translated Sentence: a boat carrying several men is pulled from shore from a large by by horses . <eos>\n"
     ]
    },
    {
     "name": "stderr",
     "output_type": "stream",
     "text": [
      "100%|██████████| 454/454 [01:40<00:00,  4.51it/s]\n",
      "100%|██████████| 16/16 [00:00<00:00, 16.04it/s]\n"
     ]
    },
    {
     "name": "stdout",
     "output_type": "stream",
     "text": [
      "Epoch train loss: 0.7885205167374422, validation loss: 4.839798778295517\n",
      "---------------------------------------------------------\n",
      "[Epoch 34 / 100]\n",
      "Input German sentence: ein boot mit mehreren männern darauf wird von einem großen pferdegespann ans ufer gezogen.\n"
     ]
    },
    {
     "name": "stderr",
     "output_type": "stream",
     "text": [
      "\r",
      "  0%|          | 0/454 [00:00<?, ?it/s]"
     ]
    },
    {
     "name": "stdout",
     "output_type": "stream",
     "text": [
      "\n",
      "Translated Sentence: a boat carrying several men is pulled by a large tree by by a large rock . <eos>\n"
     ]
    },
    {
     "name": "stderr",
     "output_type": "stream",
     "text": [
      "100%|██████████| 454/454 [01:40<00:00,  4.53it/s]\n",
      "100%|██████████| 16/16 [00:00<00:00, 16.06it/s]\n"
     ]
    },
    {
     "name": "stdout",
     "output_type": "stream",
     "text": [
      "Epoch train loss: 0.7607937834598945, validation loss: 4.930901050567627\n",
      "---------------------------------------------------------\n",
      "[Epoch 35 / 100]\n",
      "Input German sentence: ein boot mit mehreren männern darauf wird von einem großen pferdegespann ans ufer gezogen.\n"
     ]
    },
    {
     "name": "stderr",
     "output_type": "stream",
     "text": [
      "\r",
      "  0%|          | 0/454 [00:00<?, ?it/s]"
     ]
    },
    {
     "name": "stdout",
     "output_type": "stream",
     "text": [
      "\n",
      "Translated Sentence: a boat carrying several men is pulled by a large , by a big team . horses . <eos>\n"
     ]
    },
    {
     "name": "stderr",
     "output_type": "stream",
     "text": [
      "100%|██████████| 454/454 [01:40<00:00,  4.52it/s]\n",
      "100%|██████████| 16/16 [00:00<00:00, 16.07it/s]\n"
     ]
    },
    {
     "name": "stdout",
     "output_type": "stream",
     "text": [
      "Epoch train loss: 0.7155132288449662, validation loss: 4.972474098205566\n",
      "---------------------------------------------------------\n",
      "[Epoch 36 / 100]\n",
      "Input German sentence: ein boot mit mehreren männern darauf wird von einem großen pferdegespann ans ufer gezogen.\n"
     ]
    },
    {
     "name": "stderr",
     "output_type": "stream",
     "text": [
      "\r",
      "  0%|          | 0/454 [00:00<?, ?it/s]"
     ]
    },
    {
     "name": "stdout",
     "output_type": "stream",
     "text": [
      "\n",
      "Translated Sentence: a boat carrying several men is pulled by a large by a large <unk> horses . <eos>\n"
     ]
    },
    {
     "name": "stderr",
     "output_type": "stream",
     "text": [
      "100%|██████████| 454/454 [01:40<00:00,  4.52it/s]\n",
      "100%|██████████| 16/16 [00:00<00:00, 16.09it/s]\n"
     ]
    },
    {
     "name": "stdout",
     "output_type": "stream",
     "text": [
      "Epoch train loss: 0.701553920850092, validation loss: 5.004464954137802\n",
      "---------------------------------------------------------\n",
      "[Epoch 37 / 100]\n",
      "Input German sentence: ein boot mit mehreren männern darauf wird von einem großen pferdegespann ans ufer gezogen.\n"
     ]
    },
    {
     "name": "stderr",
     "output_type": "stream",
     "text": [
      "\r",
      "  0%|          | 0/454 [00:00<?, ?it/s]"
     ]
    },
    {
     "name": "stdout",
     "output_type": "stream",
     "text": [
      "\n",
      "Translated Sentence: a boat carrying several men is pulled from shore from a large team of horses . <eos>\n"
     ]
    },
    {
     "name": "stderr",
     "output_type": "stream",
     "text": [
      "100%|██████████| 454/454 [01:40<00:00,  4.52it/s]\n",
      "100%|██████████| 16/16 [00:00<00:00, 16.10it/s]\n"
     ]
    },
    {
     "name": "stdout",
     "output_type": "stream",
     "text": [
      "Epoch train loss: 0.6780175509563101, validation loss: 4.99306908249855\n",
      "---------------------------------------------------------\n",
      "[Epoch 38 / 100]\n",
      "Input German sentence: ein boot mit mehreren männern darauf wird von einem großen pferdegespann ans ufer gezogen.\n"
     ]
    },
    {
     "name": "stderr",
     "output_type": "stream",
     "text": [
      "\r",
      "  0%|          | 0/454 [00:00<?, ?it/s]"
     ]
    },
    {
     "name": "stdout",
     "output_type": "stream",
     "text": [
      "\n",
      "Translated Sentence: a boat carrying several men is pulled from a shore by a large team of horses . <eos>\n"
     ]
    },
    {
     "name": "stderr",
     "output_type": "stream",
     "text": [
      "100%|██████████| 454/454 [01:40<00:00,  4.53it/s]\n",
      "100%|██████████| 16/16 [00:00<00:00, 16.07it/s]\n"
     ]
    },
    {
     "name": "stdout",
     "output_type": "stream",
     "text": [
      "Epoch train loss: 0.6580265402334378, validation loss: 5.151004433631897\n",
      "---------------------------------------------------------\n",
      "[Epoch 39 / 100]\n",
      "Input German sentence: ein boot mit mehreren männern darauf wird von einem großen pferdegespann ans ufer gezogen.\n"
     ]
    },
    {
     "name": "stderr",
     "output_type": "stream",
     "text": [
      "\r",
      "  0%|          | 0/454 [00:00<?, ?it/s]"
     ]
    },
    {
     "name": "stdout",
     "output_type": "stream",
     "text": [
      "\n",
      "Translated Sentence: a boat carrying several men is pulled by a men from a large team of horses . <eos>\n"
     ]
    },
    {
     "name": "stderr",
     "output_type": "stream",
     "text": [
      "100%|██████████| 454/454 [01:40<00:00,  4.52it/s]\n",
      "100%|██████████| 16/16 [00:00<00:00, 16.05it/s]\n"
     ]
    },
    {
     "name": "stdout",
     "output_type": "stream",
     "text": [
      "Epoch train loss: 0.6380096096955732, validation loss: 5.2527772188186646\n",
      "---------------------------------------------------------\n",
      "[Epoch 40 / 100]\n",
      "Input German sentence: ein boot mit mehreren männern darauf wird von einem großen pferdegespann ans ufer gezogen.\n"
     ]
    },
    {
     "name": "stderr",
     "output_type": "stream",
     "text": [
      "\r",
      "  0%|          | 0/454 [00:00<?, ?it/s]"
     ]
    },
    {
     "name": "stdout",
     "output_type": "stream",
     "text": [
      "\n",
      "Translated Sentence: a boat carrying several men is pulled from a large tree from a team . <eos>\n"
     ]
    },
    {
     "name": "stderr",
     "output_type": "stream",
     "text": [
      "100%|██████████| 454/454 [01:40<00:00,  4.53it/s]\n",
      "100%|██████████| 16/16 [00:00<00:00, 16.03it/s]\n"
     ]
    },
    {
     "name": "stdout",
     "output_type": "stream",
     "text": [
      "Epoch train loss: 0.6128232264768184, validation loss: 5.235153526067734\n",
      "---------------------------------------------------------\n",
      "[Epoch 41 / 100]\n",
      "Input German sentence: ein boot mit mehreren männern darauf wird von einem großen pferdegespann ans ufer gezogen.\n"
     ]
    },
    {
     "name": "stderr",
     "output_type": "stream",
     "text": [
      "\r",
      "  0%|          | 0/454 [00:00<?, ?it/s]"
     ]
    },
    {
     "name": "stdout",
     "output_type": "stream",
     "text": [
      "\n",
      "Translated Sentence: a boat carrying several men is pulled off a large by a large team of horses . <eos>\n"
     ]
    },
    {
     "name": "stderr",
     "output_type": "stream",
     "text": [
      "100%|██████████| 454/454 [01:40<00:00,  4.52it/s]\n",
      "100%|██████████| 16/16 [00:00<00:00, 16.05it/s]\n"
     ]
    },
    {
     "name": "stdout",
     "output_type": "stream",
     "text": [
      "Epoch train loss: 0.5903691362573187, validation loss: 5.26471221446991\n",
      "---------------------------------------------------------\n",
      "[Epoch 42 / 100]\n",
      "Input German sentence: ein boot mit mehreren männern darauf wird von einem großen pferdegespann ans ufer gezogen.\n"
     ]
    },
    {
     "name": "stderr",
     "output_type": "stream",
     "text": [
      "\r",
      "  0%|          | 0/454 [00:00<?, ?it/s]"
     ]
    },
    {
     "name": "stdout",
     "output_type": "stream",
     "text": [
      "\n",
      "Translated Sentence: a boat carrying several men is pulled by shore by a large team of horses . <eos>\n"
     ]
    },
    {
     "name": "stderr",
     "output_type": "stream",
     "text": [
      "100%|██████████| 454/454 [01:40<00:00,  4.53it/s]\n",
      "100%|██████████| 16/16 [00:00<00:00, 16.11it/s]\n"
     ]
    },
    {
     "name": "stdout",
     "output_type": "stream",
     "text": [
      "Epoch train loss: 0.5679722607201416, validation loss: 5.27627968788147\n",
      "---------------------------------------------------------\n",
      "[Epoch 43 / 100]\n",
      "Input German sentence: ein boot mit mehreren männern darauf wird von einem großen pferdegespann ans ufer gezogen.\n"
     ]
    },
    {
     "name": "stderr",
     "output_type": "stream",
     "text": [
      "\r",
      "  0%|          | 0/454 [00:00<?, ?it/s]"
     ]
    },
    {
     "name": "stdout",
     "output_type": "stream",
     "text": [
      "\n",
      "Translated Sentence: a boat carrying several men is pulled to shore by a large team of horses . <eos>\n"
     ]
    },
    {
     "name": "stderr",
     "output_type": "stream",
     "text": [
      "100%|██████████| 454/454 [01:40<00:00,  4.52it/s]\n",
      "100%|██████████| 16/16 [00:00<00:00, 16.03it/s]\n"
     ]
    },
    {
     "name": "stdout",
     "output_type": "stream",
     "text": [
      "Epoch train loss: 0.558388086651259, validation loss: 5.328454673290253\n",
      "---------------------------------------------------------\n",
      "[Epoch 44 / 100]\n",
      "Input German sentence: ein boot mit mehreren männern darauf wird von einem großen pferdegespann ans ufer gezogen.\n"
     ]
    },
    {
     "name": "stderr",
     "output_type": "stream",
     "text": [
      "\r",
      "  0%|          | 0/454 [00:00<?, ?it/s]"
     ]
    },
    {
     "name": "stdout",
     "output_type": "stream",
     "text": [
      "\n",
      "Translated Sentence: a boat carrying several men is pulled by shore by a large team of horses . <eos>\n"
     ]
    },
    {
     "name": "stderr",
     "output_type": "stream",
     "text": [
      "100%|██████████| 454/454 [01:40<00:00,  4.52it/s]\n",
      "100%|██████████| 16/16 [00:01<00:00, 15.97it/s]\n"
     ]
    },
    {
     "name": "stdout",
     "output_type": "stream",
     "text": [
      "Epoch train loss: 0.5405424468645965, validation loss: 5.350355386734009\n",
      "---------------------------------------------------------\n",
      "[Epoch 45 / 100]\n",
      "Input German sentence: ein boot mit mehreren männern darauf wird von einem großen pferdegespann ans ufer gezogen.\n"
     ]
    },
    {
     "name": "stderr",
     "output_type": "stream",
     "text": [
      "\r",
      "  0%|          | 0/454 [00:00<?, ?it/s]"
     ]
    },
    {
     "name": "stdout",
     "output_type": "stream",
     "text": [
      "\n",
      "Translated Sentence: a boat carrying several men is pulled by shore by a large team of horses . <eos>\n"
     ]
    },
    {
     "name": "stderr",
     "output_type": "stream",
     "text": [
      "100%|██████████| 454/454 [01:40<00:00,  4.52it/s]\n",
      "100%|██████████| 16/16 [00:01<00:00, 16.00it/s]\n"
     ]
    },
    {
     "name": "stdout",
     "output_type": "stream",
     "text": [
      "Epoch train loss: 0.5204311133842374, validation loss: 5.382989317178726\n",
      "---------------------------------------------------------\n",
      "[Epoch 46 / 100]\n",
      "Input German sentence: ein boot mit mehreren männern darauf wird von einem großen pferdegespann ans ufer gezogen.\n"
     ]
    },
    {
     "name": "stderr",
     "output_type": "stream",
     "text": [
      "  0%|          | 1/454 [00:00<01:25,  5.31it/s]"
     ]
    },
    {
     "name": "stdout",
     "output_type": "stream",
     "text": [
      "\n",
      "Translated Sentence: a boat carrying several men is pulled to shore by a large team of horses . <eos>\n"
     ]
    },
    {
     "name": "stderr",
     "output_type": "stream",
     "text": [
      "100%|██████████| 454/454 [01:40<00:00,  4.53it/s]\n",
      "100%|██████████| 16/16 [00:00<00:00, 16.00it/s]\n"
     ]
    },
    {
     "name": "stdout",
     "output_type": "stream",
     "text": [
      "Epoch train loss: 0.5114648391693699, validation loss: 5.452974081039429\n",
      "---------------------------------------------------------\n",
      "[Epoch 47 / 100]\n",
      "Input German sentence: ein boot mit mehreren männern darauf wird von einem großen pferdegespann ans ufer gezogen.\n"
     ]
    },
    {
     "name": "stderr",
     "output_type": "stream",
     "text": [
      "\r",
      "  0%|          | 0/454 [00:00<?, ?it/s]"
     ]
    },
    {
     "name": "stdout",
     "output_type": "stream",
     "text": [
      "\n",
      "Translated Sentence: a boat carrying several men is pulled by shore by a large team of horses . <eos>\n"
     ]
    },
    {
     "name": "stderr",
     "output_type": "stream",
     "text": [
      "100%|██████████| 454/454 [01:40<00:00,  4.52it/s]\n",
      "100%|██████████| 16/16 [00:01<00:00, 16.00it/s]\n"
     ]
    },
    {
     "name": "stdout",
     "output_type": "stream",
     "text": [
      "Epoch train loss: 0.4888635351433365, validation loss: 5.47722002863884\n",
      "---------------------------------------------------------\n",
      "[Epoch 48 / 100]\n",
      "Input German sentence: ein boot mit mehreren männern darauf wird von einem großen pferdegespann ans ufer gezogen.\n"
     ]
    },
    {
     "name": "stderr",
     "output_type": "stream",
     "text": [
      "\r",
      "  0%|          | 0/454 [00:00<?, ?it/s]"
     ]
    },
    {
     "name": "stdout",
     "output_type": "stream",
     "text": [
      "\n",
      "Translated Sentence: a boat carrying several men is pulled by shore by a large team of horses . <eos>\n"
     ]
    },
    {
     "name": "stderr",
     "output_type": "stream",
     "text": [
      "100%|██████████| 454/454 [01:40<00:00,  4.51it/s]\n",
      "100%|██████████| 16/16 [00:01<00:00, 15.86it/s]\n"
     ]
    },
    {
     "name": "stdout",
     "output_type": "stream",
     "text": [
      "Epoch train loss: 0.47547506004374984, validation loss: 5.567510426044464\n",
      "---------------------------------------------------------\n",
      "[Epoch 49 / 100]\n",
      "Input German sentence: ein boot mit mehreren männern darauf wird von einem großen pferdegespann ans ufer gezogen.\n"
     ]
    },
    {
     "name": "stderr",
     "output_type": "stream",
     "text": [
      "\r",
      "  0%|          | 0/454 [00:00<?, ?it/s]"
     ]
    },
    {
     "name": "stdout",
     "output_type": "stream",
     "text": [
      "\n",
      "Translated Sentence: a boat carrying several men is pulled to shore from a large team of horses . <eos>\n"
     ]
    },
    {
     "name": "stderr",
     "output_type": "stream",
     "text": [
      "100%|██████████| 454/454 [01:40<00:00,  4.50it/s]\n",
      "100%|██████████| 16/16 [00:01<00:00, 15.96it/s]\n"
     ]
    },
    {
     "name": "stdout",
     "output_type": "stream",
     "text": [
      "Epoch train loss: 0.46646132462941076, validation loss: 5.643004536628723\n",
      "---------------------------------------------------------\n",
      "[Epoch 50 / 100]\n",
      "Input German sentence: ein boot mit mehreren männern darauf wird von einem großen pferdegespann ans ufer gezogen.\n"
     ]
    },
    {
     "name": "stderr",
     "output_type": "stream",
     "text": [
      "\r",
      "  0%|          | 0/454 [00:00<?, ?it/s]"
     ]
    },
    {
     "name": "stdout",
     "output_type": "stream",
     "text": [
      "\n",
      "Translated Sentence: a boat carrying several men is pulled to shore by a large team of horses . <eos>\n"
     ]
    },
    {
     "name": "stderr",
     "output_type": "stream",
     "text": [
      "100%|██████████| 454/454 [01:40<00:00,  4.51it/s]\n",
      "100%|██████████| 16/16 [00:01<00:00, 15.97it/s]\n"
     ]
    },
    {
     "name": "stdout",
     "output_type": "stream",
     "text": [
      "Epoch train loss: 0.4567914604484247, validation loss: 5.686561793088913\n",
      "---------------------------------------------------------\n",
      "[Epoch 51 / 100]\n",
      "Input German sentence: ein boot mit mehreren männern darauf wird von einem großen pferdegespann ans ufer gezogen.\n"
     ]
    },
    {
     "name": "stderr",
     "output_type": "stream",
     "text": [
      "\r",
      "  0%|          | 0/454 [00:00<?, ?it/s]"
     ]
    },
    {
     "name": "stdout",
     "output_type": "stream",
     "text": [
      "\n",
      "Translated Sentence: a boat carrying several men is pulled by a large by a team . horses . <eos>\n"
     ]
    },
    {
     "name": "stderr",
     "output_type": "stream",
     "text": [
      "100%|██████████| 454/454 [01:40<00:00,  4.51it/s]\n",
      "100%|██████████| 16/16 [00:01<00:00, 15.98it/s]\n"
     ]
    },
    {
     "name": "stdout",
     "output_type": "stream",
     "text": [
      "Epoch train loss: 0.45147233600789755, validation loss: 5.783398449420929\n",
      "---------------------------------------------------------\n",
      "[Epoch 52 / 100]\n",
      "Input German sentence: ein boot mit mehreren männern darauf wird von einem großen pferdegespann ans ufer gezogen.\n"
     ]
    },
    {
     "name": "stderr",
     "output_type": "stream",
     "text": [
      "\r",
      "  0%|          | 0/454 [00:00<?, ?it/s]"
     ]
    },
    {
     "name": "stdout",
     "output_type": "stream",
     "text": [
      "\n",
      "Translated Sentence: a boat carrying several men is pulled to shore by a large team of horses horses . <eos>\n"
     ]
    },
    {
     "name": "stderr",
     "output_type": "stream",
     "text": [
      "100%|██████████| 454/454 [01:40<00:00,  4.52it/s]\n",
      "100%|██████████| 16/16 [00:00<00:00, 16.03it/s]\n"
     ]
    },
    {
     "name": "stdout",
     "output_type": "stream",
     "text": [
      "Epoch train loss: 0.43535286913490506, validation loss: 5.748578757047653\n",
      "---------------------------------------------------------\n",
      "[Epoch 53 / 100]\n",
      "Input German sentence: ein boot mit mehreren männern darauf wird von einem großen pferdegespann ans ufer gezogen.\n"
     ]
    },
    {
     "name": "stderr",
     "output_type": "stream",
     "text": [
      "\r",
      "  0%|          | 0/454 [00:00<?, ?it/s]"
     ]
    },
    {
     "name": "stdout",
     "output_type": "stream",
     "text": [
      "\n",
      "Translated Sentence: a boat carrying several men is pulled to shore by a large team of horses horses . <eos>\n"
     ]
    },
    {
     "name": "stderr",
     "output_type": "stream",
     "text": [
      "100%|██████████| 454/454 [01:40<00:00,  4.53it/s]\n",
      "100%|██████████| 16/16 [00:01<00:00, 15.99it/s]\n"
     ]
    },
    {
     "name": "stdout",
     "output_type": "stream",
     "text": [
      "Epoch train loss: 0.43226321975368237, validation loss: 5.695065051317215\n",
      "---------------------------------------------------------\n",
      "[Epoch 54 / 100]\n",
      "Input German sentence: ein boot mit mehreren männern darauf wird von einem großen pferdegespann ans ufer gezogen.\n"
     ]
    },
    {
     "name": "stderr",
     "output_type": "stream",
     "text": [
      "\r",
      "  0%|          | 0/454 [00:00<?, ?it/s]"
     ]
    },
    {
     "name": "stdout",
     "output_type": "stream",
     "text": [
      "\n",
      "Translated Sentence: a boat carrying several men is pulled to shore by a large team of horses . <eos>\n"
     ]
    },
    {
     "name": "stderr",
     "output_type": "stream",
     "text": [
      "100%|██████████| 454/454 [01:40<00:00,  4.52it/s]\n",
      "100%|██████████| 16/16 [00:00<00:00, 16.04it/s]\n"
     ]
    },
    {
     "name": "stdout",
     "output_type": "stream",
     "text": [
      "Epoch train loss: 0.41869712565176287, validation loss: 5.778591305017471\n",
      "---------------------------------------------------------\n",
      "[Epoch 55 / 100]\n",
      "Input German sentence: ein boot mit mehreren männern darauf wird von einem großen pferdegespann ans ufer gezogen.\n"
     ]
    },
    {
     "name": "stderr",
     "output_type": "stream",
     "text": [
      "\r",
      "  0%|          | 0/454 [00:00<?, ?it/s]"
     ]
    },
    {
     "name": "stdout",
     "output_type": "stream",
     "text": [
      "\n",
      "Translated Sentence: a boat carrying several men is pulled by shore by a large team of horses . <eos>\n"
     ]
    },
    {
     "name": "stderr",
     "output_type": "stream",
     "text": [
      "100%|██████████| 454/454 [01:40<00:00,  4.53it/s]\n",
      "100%|██████████| 16/16 [00:00<00:00, 16.04it/s]\n"
     ]
    },
    {
     "name": "stdout",
     "output_type": "stream",
     "text": [
      "Epoch train loss: 0.40841230838703163, validation loss: 5.896221935749054\n",
      "---------------------------------------------------------\n",
      "[Epoch 56 / 100]\n",
      "Input German sentence: ein boot mit mehreren männern darauf wird von einem großen pferdegespann ans ufer gezogen.\n"
     ]
    },
    {
     "name": "stderr",
     "output_type": "stream",
     "text": [
      "\r",
      "  0%|          | 0/454 [00:00<?, ?it/s]"
     ]
    },
    {
     "name": "stdout",
     "output_type": "stream",
     "text": [
      "\n",
      "Translated Sentence: a boat carrying several men is pulled to shore by a large team of horses horses . <eos>\n"
     ]
    },
    {
     "name": "stderr",
     "output_type": "stream",
     "text": [
      "100%|██████████| 454/454 [01:40<00:00,  4.52it/s]\n",
      "100%|██████████| 16/16 [00:00<00:00, 16.11it/s]\n"
     ]
    },
    {
     "name": "stdout",
     "output_type": "stream",
     "text": [
      "Epoch train loss: 0.40039920892221814, validation loss: 5.891414940357208\n",
      "---------------------------------------------------------\n",
      "[Epoch 57 / 100]\n",
      "Input German sentence: ein boot mit mehreren männern darauf wird von einem großen pferdegespann ans ufer gezogen.\n"
     ]
    },
    {
     "name": "stderr",
     "output_type": "stream",
     "text": [
      "\r",
      "  0%|          | 0/454 [00:00<?, ?it/s]"
     ]
    },
    {
     "name": "stdout",
     "output_type": "stream",
     "text": [
      "\n",
      "Translated Sentence: a boat carrying several men is pulled to shore by by a large team of horses . <eos>\n"
     ]
    },
    {
     "name": "stderr",
     "output_type": "stream",
     "text": [
      "100%|██████████| 454/454 [01:40<00:00,  4.54it/s]\n",
      "100%|██████████| 16/16 [00:00<00:00, 16.08it/s]\n"
     ]
    },
    {
     "name": "stdout",
     "output_type": "stream",
     "text": [
      "Epoch train loss: 0.39995081384670367, validation loss: 5.958455204963684\n",
      "---------------------------------------------------------\n",
      "[Epoch 58 / 100]\n",
      "Input German sentence: ein boot mit mehreren männern darauf wird von einem großen pferdegespann ans ufer gezogen.\n"
     ]
    },
    {
     "name": "stderr",
     "output_type": "stream",
     "text": [
      "\r",
      "  0%|          | 0/454 [00:00<?, ?it/s]"
     ]
    },
    {
     "name": "stdout",
     "output_type": "stream",
     "text": [
      "\n",
      "Translated Sentence: a boat carrying several men is pulled to shore by a large team of horses . <eos>\n"
     ]
    },
    {
     "name": "stderr",
     "output_type": "stream",
     "text": [
      "100%|██████████| 454/454 [01:39<00:00,  4.54it/s]\n",
      "100%|██████████| 16/16 [00:00<00:00, 16.08it/s]\n"
     ]
    },
    {
     "name": "stdout",
     "output_type": "stream",
     "text": [
      "Epoch train loss: 0.37532610252565224, validation loss: 6.014398545026779\n",
      "---------------------------------------------------------\n",
      "[Epoch 59 / 100]\n",
      "Input German sentence: ein boot mit mehreren männern darauf wird von einem großen pferdegespann ans ufer gezogen.\n"
     ]
    },
    {
     "name": "stderr",
     "output_type": "stream",
     "text": [
      "\r",
      "  0%|          | 0/454 [00:00<?, ?it/s]"
     ]
    },
    {
     "name": "stdout",
     "output_type": "stream",
     "text": [
      "\n",
      "Translated Sentence: a boat carrying several men is pulled to shore by a large team of horses . <eos>\n"
     ]
    },
    {
     "name": "stderr",
     "output_type": "stream",
     "text": [
      "100%|██████████| 454/454 [01:39<00:00,  4.54it/s]\n",
      "100%|██████████| 16/16 [00:00<00:00, 16.06it/s]\n"
     ]
    },
    {
     "name": "stdout",
     "output_type": "stream",
     "text": [
      "Epoch train loss: 0.37328046593109415, validation loss: 5.9984627068042755\n",
      "---------------------------------------------------------\n",
      "[Epoch 60 / 100]\n",
      "Input German sentence: ein boot mit mehreren männern darauf wird von einem großen pferdegespann ans ufer gezogen.\n"
     ]
    },
    {
     "name": "stderr",
     "output_type": "stream",
     "text": [
      "\r",
      "  0%|          | 0/454 [00:00<?, ?it/s]"
     ]
    },
    {
     "name": "stdout",
     "output_type": "stream",
     "text": [
      "\n",
      "Translated Sentence: a boat carrying several men is pulled to shore by a large team of horses . <eos>\n"
     ]
    },
    {
     "name": "stderr",
     "output_type": "stream",
     "text": [
      "100%|██████████| 454/454 [01:40<00:00,  4.53it/s]\n",
      "100%|██████████| 16/16 [00:00<00:00, 16.09it/s]\n"
     ]
    },
    {
     "name": "stdout",
     "output_type": "stream",
     "text": [
      "Epoch train loss: 0.37259890805388335, validation loss: 6.062132000923157\n",
      "---------------------------------------------------------\n",
      "[Epoch 61 / 100]\n",
      "Input German sentence: ein boot mit mehreren männern darauf wird von einem großen pferdegespann ans ufer gezogen.\n"
     ]
    },
    {
     "name": "stderr",
     "output_type": "stream",
     "text": [
      "\r",
      "  0%|          | 0/454 [00:00<?, ?it/s]"
     ]
    },
    {
     "name": "stdout",
     "output_type": "stream",
     "text": [
      "\n",
      "Translated Sentence: a boat carrying several men is pulled by shore by a large team of horses . <eos>\n"
     ]
    },
    {
     "name": "stderr",
     "output_type": "stream",
     "text": [
      "100%|██████████| 454/454 [01:40<00:00,  4.50it/s]\n",
      "100%|██████████| 16/16 [00:01<00:00, 15.97it/s]\n"
     ]
    },
    {
     "name": "stdout",
     "output_type": "stream",
     "text": [
      "Epoch train loss: 0.3695620779719384, validation loss: 6.1983174085617065\n",
      "---------------------------------------------------------\n",
      "[Epoch 62 / 100]\n",
      "Input German sentence: ein boot mit mehreren männern darauf wird von einem großen pferdegespann ans ufer gezogen.\n"
     ]
    },
    {
     "name": "stderr",
     "output_type": "stream",
     "text": [
      "\r",
      "  0%|          | 0/454 [00:00<?, ?it/s]"
     ]
    },
    {
     "name": "stdout",
     "output_type": "stream",
     "text": [
      "\n",
      "Translated Sentence: a boat carrying several men is pulled by shore by a large team of horses . <eos>\n"
     ]
    },
    {
     "name": "stderr",
     "output_type": "stream",
     "text": [
      "100%|██████████| 454/454 [01:40<00:00,  4.51it/s]\n",
      "100%|██████████| 16/16 [00:01<00:00, 15.94it/s]\n"
     ]
    },
    {
     "name": "stdout",
     "output_type": "stream",
     "text": [
      "Epoch train loss: 0.3544773162724163, validation loss: 6.113933980464935\n",
      "---------------------------------------------------------\n",
      "[Epoch 63 / 100]\n",
      "Input German sentence: ein boot mit mehreren männern darauf wird von einem großen pferdegespann ans ufer gezogen.\n"
     ]
    },
    {
     "name": "stderr",
     "output_type": "stream",
     "text": [
      "\r",
      "  0%|          | 0/454 [00:00<?, ?it/s]"
     ]
    },
    {
     "name": "stdout",
     "output_type": "stream",
     "text": [
      "\n",
      "Translated Sentence: a boat carrying several men is pulled to shore by a large team of horses . <eos>\n"
     ]
    },
    {
     "name": "stderr",
     "output_type": "stream",
     "text": [
      "100%|██████████| 454/454 [01:40<00:00,  4.51it/s]\n",
      "100%|██████████| 16/16 [00:01<00:00, 15.95it/s]\n"
     ]
    },
    {
     "name": "stdout",
     "output_type": "stream",
     "text": [
      "Epoch train loss: 0.3423461235140651, validation loss: 6.253978669643402\n",
      "---------------------------------------------------------\n",
      "[Epoch 64 / 100]\n",
      "Input German sentence: ein boot mit mehreren männern darauf wird von einem großen pferdegespann ans ufer gezogen.\n"
     ]
    },
    {
     "name": "stderr",
     "output_type": "stream",
     "text": [
      "\r",
      "  0%|          | 0/454 [00:00<?, ?it/s]"
     ]
    },
    {
     "name": "stdout",
     "output_type": "stream",
     "text": [
      "\n",
      "Translated Sentence: a boat carrying several men is pulled to shore by a large team of horses horses . <eos>\n"
     ]
    },
    {
     "name": "stderr",
     "output_type": "stream",
     "text": [
      "100%|██████████| 454/454 [01:40<00:00,  4.52it/s]\n",
      "100%|██████████| 16/16 [00:00<00:00, 16.02it/s]\n"
     ]
    },
    {
     "name": "stdout",
     "output_type": "stream",
     "text": [
      "Epoch train loss: 0.34681436058445647, validation loss: 6.273131936788559\n",
      "---------------------------------------------------------\n",
      "[Epoch 65 / 100]\n",
      "Input German sentence: ein boot mit mehreren männern darauf wird von einem großen pferdegespann ans ufer gezogen.\n"
     ]
    },
    {
     "name": "stderr",
     "output_type": "stream",
     "text": [
      "\r",
      "  0%|          | 0/454 [00:00<?, ?it/s]"
     ]
    },
    {
     "name": "stdout",
     "output_type": "stream",
     "text": [
      "\n",
      "Translated Sentence: a boat carrying several men is pulled to shore by a large team of horses . <eos>\n"
     ]
    },
    {
     "name": "stderr",
     "output_type": "stream",
     "text": [
      "100%|██████████| 454/454 [01:40<00:00,  4.51it/s]\n",
      "100%|██████████| 16/16 [00:01<00:00, 15.98it/s]\n"
     ]
    },
    {
     "name": "stdout",
     "output_type": "stream",
     "text": [
      "Epoch train loss: 0.340910876309294, validation loss: 6.226503759622574\n",
      "---------------------------------------------------------\n",
      "[Epoch 66 / 100]\n",
      "Input German sentence: ein boot mit mehreren männern darauf wird von einem großen pferdegespann ans ufer gezogen.\n"
     ]
    },
    {
     "name": "stderr",
     "output_type": "stream",
     "text": [
      "\r",
      "  0%|          | 0/454 [00:00<?, ?it/s]"
     ]
    },
    {
     "name": "stdout",
     "output_type": "stream",
     "text": [
      "\n",
      "Translated Sentence: a boat carrying several men is pulled to shore by a large team of horses horses . <eos>\n"
     ]
    },
    {
     "name": "stderr",
     "output_type": "stream",
     "text": [
      "100%|██████████| 454/454 [01:40<00:00,  4.52it/s]\n",
      "100%|██████████| 16/16 [00:01<00:00, 15.81it/s]\n"
     ]
    },
    {
     "name": "stdout",
     "output_type": "stream",
     "text": [
      "Epoch train loss: 0.3360308461744617, validation loss: 6.373862206935883\n",
      "---------------------------------------------------------\n",
      "[Epoch 67 / 100]\n",
      "Input German sentence: ein boot mit mehreren männern darauf wird von einem großen pferdegespann ans ufer gezogen.\n"
     ]
    },
    {
     "name": "stderr",
     "output_type": "stream",
     "text": [
      "\r",
      "  0%|          | 0/454 [00:00<?, ?it/s]"
     ]
    },
    {
     "name": "stdout",
     "output_type": "stream",
     "text": [
      "\n",
      "Translated Sentence: a boat carrying several men is pulled to shore from a large team of horses . <eos>\n"
     ]
    },
    {
     "name": "stderr",
     "output_type": "stream",
     "text": [
      "100%|██████████| 454/454 [01:40<00:00,  4.50it/s]\n",
      "100%|██████████| 16/16 [00:01<00:00, 15.89it/s]\n"
     ]
    },
    {
     "name": "stdout",
     "output_type": "stream",
     "text": [
      "Epoch train loss: 0.33041212971974576, validation loss: 6.32061693072319\n",
      "---------------------------------------------------------\n",
      "[Epoch 68 / 100]\n",
      "Input German sentence: ein boot mit mehreren männern darauf wird von einem großen pferdegespann ans ufer gezogen.\n"
     ]
    },
    {
     "name": "stderr",
     "output_type": "stream",
     "text": [
      "\r",
      "  0%|          | 0/454 [00:00<?, ?it/s]"
     ]
    },
    {
     "name": "stdout",
     "output_type": "stream",
     "text": [
      "\n",
      "Translated Sentence: a boat carrying several men is pulled to shore by a large team of horses . <eos>\n"
     ]
    },
    {
     "name": "stderr",
     "output_type": "stream",
     "text": [
      "100%|██████████| 454/454 [01:41<00:00,  4.49it/s]\n",
      "100%|██████████| 16/16 [00:01<00:00, 15.82it/s]\n"
     ]
    },
    {
     "name": "stdout",
     "output_type": "stream",
     "text": [
      "Epoch train loss: 0.3372833108455599, validation loss: 6.269323110580444\n",
      "---------------------------------------------------------\n",
      "[Epoch 69 / 100]\n",
      "Input German sentence: ein boot mit mehreren männern darauf wird von einem großen pferdegespann ans ufer gezogen.\n"
     ]
    },
    {
     "name": "stderr",
     "output_type": "stream",
     "text": [
      "\r",
      "  0%|          | 0/454 [00:00<?, ?it/s]"
     ]
    },
    {
     "name": "stdout",
     "output_type": "stream",
     "text": [
      "\n",
      "Translated Sentence: a boat carrying several men is pulled to shore by a large team of horses horses . <eos>\n"
     ]
    },
    {
     "name": "stderr",
     "output_type": "stream",
     "text": [
      "100%|██████████| 454/454 [01:40<00:00,  4.50it/s]\n",
      "100%|██████████| 16/16 [00:01<00:00, 15.88it/s]\n"
     ]
    },
    {
     "name": "stdout",
     "output_type": "stream",
     "text": [
      "Epoch train loss: 0.3257618375155369, validation loss: 6.384773343801498\n",
      "---------------------------------------------------------\n",
      "[Epoch 70 / 100]\n",
      "Input German sentence: ein boot mit mehreren männern darauf wird von einem großen pferdegespann ans ufer gezogen.\n"
     ]
    },
    {
     "name": "stderr",
     "output_type": "stream",
     "text": [
      "\r",
      "  0%|          | 0/454 [00:00<?, ?it/s]"
     ]
    },
    {
     "name": "stdout",
     "output_type": "stream",
     "text": [
      "\n",
      "Translated Sentence: a boat carrying several men is pulled to shore shore from a large team of horses . <eos>\n"
     ]
    },
    {
     "name": "stderr",
     "output_type": "stream",
     "text": [
      "100%|██████████| 454/454 [01:40<00:00,  4.50it/s]\n",
      "100%|██████████| 16/16 [00:01<00:00, 15.89it/s]\n"
     ]
    },
    {
     "name": "stdout",
     "output_type": "stream",
     "text": [
      "Epoch train loss: 0.31832783212187793, validation loss: 6.384558618068695\n",
      "---------------------------------------------------------\n",
      "[Epoch 71 / 100]\n",
      "Input German sentence: ein boot mit mehreren männern darauf wird von einem großen pferdegespann ans ufer gezogen.\n"
     ]
    },
    {
     "name": "stderr",
     "output_type": "stream",
     "text": [
      "\r",
      "  0%|          | 0/454 [00:00<?, ?it/s]"
     ]
    },
    {
     "name": "stdout",
     "output_type": "stream",
     "text": [
      "\n",
      "Translated Sentence: a boat carrying several men is pulled to shore by a large team of horses . <eos>\n"
     ]
    },
    {
     "name": "stderr",
     "output_type": "stream",
     "text": [
      "100%|██████████| 454/454 [01:41<00:00,  4.49it/s]\n",
      "100%|██████████| 16/16 [00:01<00:00, 15.80it/s]\n"
     ]
    },
    {
     "name": "stdout",
     "output_type": "stream",
     "text": [
      "Epoch train loss: 0.3061871862260518, validation loss: 6.382252335548401\n",
      "---------------------------------------------------------\n",
      "[Epoch 72 / 100]\n",
      "Input German sentence: ein boot mit mehreren männern darauf wird von einem großen pferdegespann ans ufer gezogen.\n"
     ]
    },
    {
     "name": "stderr",
     "output_type": "stream",
     "text": [
      "\r",
      "  0%|          | 0/454 [00:00<?, ?it/s]"
     ]
    },
    {
     "name": "stdout",
     "output_type": "stream",
     "text": [
      "\n",
      "Translated Sentence: a boat carrying several men is pulled to shore by a large team of horses . <eos>\n"
     ]
    },
    {
     "name": "stderr",
     "output_type": "stream",
     "text": [
      "100%|██████████| 454/454 [01:40<00:00,  4.52it/s]\n",
      "100%|██████████| 16/16 [00:01<00:00, 15.95it/s]\n"
     ]
    },
    {
     "name": "stdout",
     "output_type": "stream",
     "text": [
      "Epoch train loss: 0.3058440550702259, validation loss: 6.431550323963165\n",
      "---------------------------------------------------------\n",
      "[Epoch 73 / 100]\n",
      "Input German sentence: ein boot mit mehreren männern darauf wird von einem großen pferdegespann ans ufer gezogen.\n"
     ]
    },
    {
     "name": "stderr",
     "output_type": "stream",
     "text": [
      "\r",
      "  0%|          | 0/454 [00:00<?, ?it/s]"
     ]
    },
    {
     "name": "stdout",
     "output_type": "stream",
     "text": [
      "\n",
      "Translated Sentence: a boat carrying several men is being lowered by shore from a large team . horses . <eos>\n"
     ]
    },
    {
     "name": "stderr",
     "output_type": "stream",
     "text": [
      "100%|██████████| 454/454 [01:40<00:00,  4.53it/s]\n",
      "100%|██████████| 16/16 [00:01<00:00, 15.85it/s]\n"
     ]
    },
    {
     "name": "stdout",
     "output_type": "stream",
     "text": [
      "Epoch train loss: 0.3079753210398857, validation loss: 6.478964477777481\n",
      "---------------------------------------------------------\n",
      "[Epoch 74 / 100]\n",
      "Input German sentence: ein boot mit mehreren männern darauf wird von einem großen pferdegespann ans ufer gezogen.\n"
     ]
    },
    {
     "name": "stderr",
     "output_type": "stream",
     "text": [
      "\r",
      "  0%|          | 0/454 [00:00<?, ?it/s]"
     ]
    },
    {
     "name": "stdout",
     "output_type": "stream",
     "text": [
      "\n",
      "Translated Sentence: a boat carrying several men is pulled to shore to a large team of horses . <eos>\n"
     ]
    },
    {
     "name": "stderr",
     "output_type": "stream",
     "text": [
      "100%|██████████| 454/454 [01:40<00:00,  4.52it/s]\n",
      "100%|██████████| 16/16 [00:01<00:00, 15.92it/s]\n"
     ]
    },
    {
     "name": "stdout",
     "output_type": "stream",
     "text": [
      "Epoch train loss: 0.30610267003989955, validation loss: 6.504582494497299\n",
      "---------------------------------------------------------\n",
      "[Epoch 75 / 100]\n",
      "Input German sentence: ein boot mit mehreren männern darauf wird von einem großen pferdegespann ans ufer gezogen.\n"
     ]
    },
    {
     "name": "stderr",
     "output_type": "stream",
     "text": [
      "\r",
      "  0%|          | 0/454 [00:00<?, ?it/s]"
     ]
    },
    {
     "name": "stdout",
     "output_type": "stream",
     "text": [
      "\n",
      "Translated Sentence: a boat carrying several men is pulled to shore by a large team of horses . <eos>\n"
     ]
    },
    {
     "name": "stderr",
     "output_type": "stream",
     "text": [
      "100%|██████████| 454/454 [01:40<00:00,  4.51it/s]\n",
      "100%|██████████| 16/16 [00:01<00:00, 15.93it/s]\n"
     ]
    },
    {
     "name": "stdout",
     "output_type": "stream",
     "text": [
      "Epoch train loss: 0.30185317554991153, validation loss: 6.461139649152756\n",
      "---------------------------------------------------------\n",
      "[Epoch 76 / 100]\n",
      "Input German sentence: ein boot mit mehreren männern darauf wird von einem großen pferdegespann ans ufer gezogen.\n"
     ]
    },
    {
     "name": "stderr",
     "output_type": "stream",
     "text": [
      "\r",
      "  0%|          | 0/454 [00:00<?, ?it/s]"
     ]
    },
    {
     "name": "stdout",
     "output_type": "stream",
     "text": [
      "\n",
      "Translated Sentence: a boat carrying several men is pulled to shore by a large team of horses . <eos>\n"
     ]
    },
    {
     "name": "stderr",
     "output_type": "stream",
     "text": [
      "100%|██████████| 454/454 [01:40<00:00,  4.52it/s]\n",
      "100%|██████████| 16/16 [00:01<00:00, 15.89it/s]\n"
     ]
    },
    {
     "name": "stdout",
     "output_type": "stream",
     "text": [
      "Epoch train loss: 0.30125868842333947, validation loss: 6.526021033525467\n",
      "---------------------------------------------------------\n",
      "[Epoch 77 / 100]\n",
      "Input German sentence: ein boot mit mehreren männern darauf wird von einem großen pferdegespann ans ufer gezogen.\n"
     ]
    },
    {
     "name": "stderr",
     "output_type": "stream",
     "text": [
      "\r",
      "  0%|          | 0/454 [00:00<?, ?it/s]"
     ]
    },
    {
     "name": "stdout",
     "output_type": "stream",
     "text": [
      "\n",
      "Translated Sentence: a boat carrying several men is pulled to shore by a large team of horses . <eos>\n"
     ]
    },
    {
     "name": "stderr",
     "output_type": "stream",
     "text": [
      "100%|██████████| 454/454 [01:40<00:00,  4.51it/s]\n",
      "100%|██████████| 16/16 [00:01<00:00, 15.97it/s]\n"
     ]
    },
    {
     "name": "stdout",
     "output_type": "stream",
     "text": [
      "Epoch train loss: 0.2895453581873672, validation loss: 6.571584850549698\n",
      "---------------------------------------------------------\n",
      "[Epoch 78 / 100]\n",
      "Input German sentence: ein boot mit mehreren männern darauf wird von einem großen pferdegespann ans ufer gezogen.\n"
     ]
    },
    {
     "name": "stderr",
     "output_type": "stream",
     "text": [
      "\r",
      "  0%|          | 0/454 [00:00<?, ?it/s]"
     ]
    },
    {
     "name": "stdout",
     "output_type": "stream",
     "text": [
      "\n",
      "Translated Sentence: a boat carrying several men is pulled to shore by a large team of horses . <eos>\n"
     ]
    },
    {
     "name": "stderr",
     "output_type": "stream",
     "text": [
      "100%|██████████| 454/454 [01:40<00:00,  4.50it/s]\n",
      "100%|██████████| 16/16 [00:01<00:00, 15.89it/s]\n"
     ]
    },
    {
     "name": "stdout",
     "output_type": "stream",
     "text": [
      "Epoch train loss: 0.2957836034736444, validation loss: 6.589190691709518\n",
      "---------------------------------------------------------\n",
      "[Epoch 79 / 100]\n",
      "Input German sentence: ein boot mit mehreren männern darauf wird von einem großen pferdegespann ans ufer gezogen.\n"
     ]
    },
    {
     "name": "stderr",
     "output_type": "stream",
     "text": [
      "\r",
      "  0%|          | 0/454 [00:00<?, ?it/s]"
     ]
    },
    {
     "name": "stdout",
     "output_type": "stream",
     "text": [
      "\n",
      "Translated Sentence: a boat carrying several men is pulled to shore by a large team of horses . <eos>\n"
     ]
    },
    {
     "name": "stderr",
     "output_type": "stream",
     "text": [
      "100%|██████████| 454/454 [01:40<00:00,  4.52it/s]\n",
      "100%|██████████| 16/16 [00:01<00:00, 15.92it/s]\n"
     ]
    },
    {
     "name": "stdout",
     "output_type": "stream",
     "text": [
      "Epoch train loss: 0.2961803880655555, validation loss: 6.610390871763229\n",
      "---------------------------------------------------------\n",
      "[Epoch 80 / 100]\n",
      "Input German sentence: ein boot mit mehreren männern darauf wird von einem großen pferdegespann ans ufer gezogen.\n"
     ]
    },
    {
     "name": "stderr",
     "output_type": "stream",
     "text": [
      "\r",
      "  0%|          | 0/454 [00:00<?, ?it/s]"
     ]
    },
    {
     "name": "stdout",
     "output_type": "stream",
     "text": [
      "\n",
      "Translated Sentence: a boat carrying several men is pulled to shore by a large team of horses . <eos>\n"
     ]
    },
    {
     "name": "stderr",
     "output_type": "stream",
     "text": [
      "100%|██████████| 454/454 [01:40<00:00,  4.52it/s]\n",
      "100%|██████████| 16/16 [00:00<00:00, 16.01it/s]\n"
     ]
    },
    {
     "name": "stdout",
     "output_type": "stream",
     "text": [
      "Epoch train loss: 0.2865556936202333, validation loss: 6.661249279975891\n",
      "---------------------------------------------------------\n",
      "[Epoch 81 / 100]\n",
      "Input German sentence: ein boot mit mehreren männern darauf wird von einem großen pferdegespann ans ufer gezogen.\n"
     ]
    },
    {
     "name": "stderr",
     "output_type": "stream",
     "text": [
      "\r",
      "  0%|          | 0/454 [00:00<?, ?it/s]"
     ]
    },
    {
     "name": "stdout",
     "output_type": "stream",
     "text": [
      "\n",
      "Translated Sentence: a boat carrying several men is pulled to shore by a large team of horses . <eos>\n"
     ]
    },
    {
     "name": "stderr",
     "output_type": "stream",
     "text": [
      "100%|██████████| 454/454 [01:40<00:00,  4.53it/s]\n",
      "100%|██████████| 16/16 [00:01<00:00, 15.97it/s]\n"
     ]
    },
    {
     "name": "stdout",
     "output_type": "stream",
     "text": [
      "Epoch train loss: 0.2815816968777894, validation loss: 6.6865880489349365\n",
      "---------------------------------------------------------\n",
      "[Epoch 82 / 100]\n",
      "Input German sentence: ein boot mit mehreren männern darauf wird von einem großen pferdegespann ans ufer gezogen.\n"
     ]
    },
    {
     "name": "stderr",
     "output_type": "stream",
     "text": [
      "\r",
      "  0%|          | 0/454 [00:00<?, ?it/s]"
     ]
    },
    {
     "name": "stdout",
     "output_type": "stream",
     "text": [
      "\n",
      "Translated Sentence: a boat carrying several men is pulled to shore by a large team of horses . <eos>\n"
     ]
    },
    {
     "name": "stderr",
     "output_type": "stream",
     "text": [
      "100%|██████████| 454/454 [01:40<00:00,  4.51it/s]\n",
      "100%|██████████| 16/16 [00:01<00:00, 15.92it/s]\n"
     ]
    },
    {
     "name": "stdout",
     "output_type": "stream",
     "text": [
      "Epoch train loss: 0.2847201854138254, validation loss: 6.692289471626282\n",
      "---------------------------------------------------------\n",
      "[Epoch 83 / 100]\n",
      "Input German sentence: ein boot mit mehreren männern darauf wird von einem großen pferdegespann ans ufer gezogen.\n"
     ]
    },
    {
     "name": "stderr",
     "output_type": "stream",
     "text": [
      "\r",
      "  0%|          | 0/454 [00:00<?, ?it/s]"
     ]
    },
    {
     "name": "stdout",
     "output_type": "stream",
     "text": [
      "\n",
      "Translated Sentence: a boat carrying several men is pulled to shore by a large team of horses . <eos>\n"
     ]
    },
    {
     "name": "stderr",
     "output_type": "stream",
     "text": [
      "100%|██████████| 454/454 [01:40<00:00,  4.51it/s]\n",
      "100%|██████████| 16/16 [00:00<00:00, 16.02it/s]\n"
     ]
    },
    {
     "name": "stdout",
     "output_type": "stream",
     "text": [
      "Epoch train loss: 0.28339078647416854, validation loss: 6.71018922328949\n",
      "---------------------------------------------------------\n",
      "[Epoch 84 / 100]\n",
      "Input German sentence: ein boot mit mehreren männern darauf wird von einem großen pferdegespann ans ufer gezogen.\n"
     ]
    },
    {
     "name": "stderr",
     "output_type": "stream",
     "text": [
      "\r",
      "  0%|          | 0/454 [00:00<?, ?it/s]"
     ]
    },
    {
     "name": "stdout",
     "output_type": "stream",
     "text": [
      "\n",
      "Translated Sentence: a boat carrying several men is pulled to shore by a large team of horses . <eos>\n"
     ]
    },
    {
     "name": "stderr",
     "output_type": "stream",
     "text": [
      "100%|██████████| 454/454 [01:40<00:00,  4.51it/s]\n",
      "100%|██████████| 16/16 [00:01<00:00, 15.91it/s]\n"
     ]
    },
    {
     "name": "stdout",
     "output_type": "stream",
     "text": [
      "Epoch train loss: 0.27328080418909434, validation loss: 6.742030143737793\n",
      "---------------------------------------------------------\n",
      "[Epoch 85 / 100]\n",
      "Input German sentence: ein boot mit mehreren männern darauf wird von einem großen pferdegespann ans ufer gezogen.\n"
     ]
    },
    {
     "name": "stderr",
     "output_type": "stream",
     "text": [
      "\r",
      "  0%|          | 0/454 [00:00<?, ?it/s]"
     ]
    },
    {
     "name": "stdout",
     "output_type": "stream",
     "text": [
      "\n",
      "Translated Sentence: a boat carrying several men is pulled to shore by a large team of horses . <eos>\n"
     ]
    },
    {
     "name": "stderr",
     "output_type": "stream",
     "text": [
      "100%|██████████| 454/454 [01:40<00:00,  4.52it/s]\n",
      "100%|██████████| 16/16 [00:01<00:00, 15.96it/s]\n"
     ]
    },
    {
     "name": "stdout",
     "output_type": "stream",
     "text": [
      "Epoch train loss: 0.27418210670877136, validation loss: 6.713686406612396\n",
      "---------------------------------------------------------\n",
      "[Epoch 86 / 100]\n",
      "Input German sentence: ein boot mit mehreren männern darauf wird von einem großen pferdegespann ans ufer gezogen.\n"
     ]
    },
    {
     "name": "stderr",
     "output_type": "stream",
     "text": [
      "\r",
      "  0%|          | 0/454 [00:00<?, ?it/s]"
     ]
    },
    {
     "name": "stdout",
     "output_type": "stream",
     "text": [
      "\n",
      "Translated Sentence: a boat carrying several men is pulled to shore by a large team of horses . <eos>\n"
     ]
    },
    {
     "name": "stderr",
     "output_type": "stream",
     "text": [
      "100%|██████████| 454/454 [01:40<00:00,  4.52it/s]\n",
      "100%|██████████| 16/16 [00:00<00:00, 16.06it/s]\n"
     ]
    },
    {
     "name": "stdout",
     "output_type": "stream",
     "text": [
      "Epoch train loss: 0.27810855154030123, validation loss: 6.74471578001976\n",
      "---------------------------------------------------------\n",
      "[Epoch 87 / 100]\n",
      "Input German sentence: ein boot mit mehreren männern darauf wird von einem großen pferdegespann ans ufer gezogen.\n"
     ]
    },
    {
     "name": "stderr",
     "output_type": "stream",
     "text": [
      "\r",
      "  0%|          | 0/454 [00:00<?, ?it/s]"
     ]
    },
    {
     "name": "stdout",
     "output_type": "stream",
     "text": [
      "\n",
      "Translated Sentence: a boat carrying several men is pulled to shore by a large team of horses . <eos>\n"
     ]
    },
    {
     "name": "stderr",
     "output_type": "stream",
     "text": [
      "100%|██████████| 454/454 [01:41<00:00,  4.49it/s]\n",
      "100%|██████████| 16/16 [00:01<00:00, 15.86it/s]\n"
     ]
    },
    {
     "name": "stdout",
     "output_type": "stream",
     "text": [
      "Epoch train loss: 0.2723467583534213, validation loss: 6.779734134674072\n",
      "---------------------------------------------------------\n",
      "[Epoch 88 / 100]\n",
      "Input German sentence: ein boot mit mehreren männern darauf wird von einem großen pferdegespann ans ufer gezogen.\n"
     ]
    },
    {
     "name": "stderr",
     "output_type": "stream",
     "text": [
      "\r",
      "  0%|          | 0/454 [00:00<?, ?it/s]"
     ]
    },
    {
     "name": "stdout",
     "output_type": "stream",
     "text": [
      "\n",
      "Translated Sentence: a boat carrying several men is pulled to shore by a large team of horses . <eos>\n"
     ]
    },
    {
     "name": "stderr",
     "output_type": "stream",
     "text": [
      "100%|██████████| 454/454 [01:41<00:00,  4.49it/s]\n",
      "100%|██████████| 16/16 [00:01<00:00, 15.87it/s]\n"
     ]
    },
    {
     "name": "stdout",
     "output_type": "stream",
     "text": [
      "Epoch train loss: 0.2636859760525337, validation loss: 6.804247587919235\n",
      "---------------------------------------------------------\n",
      "[Epoch 89 / 100]\n",
      "Input German sentence: ein boot mit mehreren männern darauf wird von einem großen pferdegespann ans ufer gezogen.\n"
     ]
    },
    {
     "name": "stderr",
     "output_type": "stream",
     "text": [
      "  0%|          | 1/454 [00:00<01:26,  5.22it/s]"
     ]
    },
    {
     "name": "stdout",
     "output_type": "stream",
     "text": [
      "\n",
      "Translated Sentence: a boat carrying several men is pulled to shore by a large team of horses . <eos>\n"
     ]
    },
    {
     "name": "stderr",
     "output_type": "stream",
     "text": [
      "100%|██████████| 454/454 [01:40<00:00,  4.50it/s]\n",
      "100%|██████████| 16/16 [00:01<00:00, 15.92it/s]\n"
     ]
    },
    {
     "name": "stdout",
     "output_type": "stream",
     "text": [
      "Epoch train loss: 0.2688973540366352, validation loss: 6.802384525537491\n",
      "---------------------------------------------------------\n",
      "[Epoch 90 / 100]\n",
      "Input German sentence: ein boot mit mehreren männern darauf wird von einem großen pferdegespann ans ufer gezogen.\n"
     ]
    },
    {
     "name": "stderr",
     "output_type": "stream",
     "text": [
      "\r",
      "  0%|          | 0/454 [00:00<?, ?it/s]"
     ]
    },
    {
     "name": "stdout",
     "output_type": "stream",
     "text": [
      "\n",
      "Translated Sentence: a boat carrying several men is pulled to shore by a large team of horses . <eos>\n"
     ]
    },
    {
     "name": "stderr",
     "output_type": "stream",
     "text": [
      "100%|██████████| 454/454 [01:40<00:00,  4.50it/s]\n",
      "100%|██████████| 16/16 [00:01<00:00, 15.87it/s]\n"
     ]
    },
    {
     "name": "stdout",
     "output_type": "stream",
     "text": [
      "Epoch train loss: 0.26322218060230895, validation loss: 6.865230679512024\n",
      "---------------------------------------------------------\n",
      "[Epoch 91 / 100]\n",
      "Input German sentence: ein boot mit mehreren männern darauf wird von einem großen pferdegespann ans ufer gezogen.\n"
     ]
    },
    {
     "name": "stderr",
     "output_type": "stream",
     "text": [
      "\r",
      "  0%|          | 0/454 [00:00<?, ?it/s]"
     ]
    },
    {
     "name": "stdout",
     "output_type": "stream",
     "text": [
      "\n",
      "Translated Sentence: a boat carrying several men is pulled to shore by a large team of horses . <eos>\n"
     ]
    },
    {
     "name": "stderr",
     "output_type": "stream",
     "text": [
      "100%|██████████| 454/454 [01:40<00:00,  4.52it/s]\n",
      "100%|██████████| 16/16 [00:01<00:00, 15.94it/s]\n"
     ]
    },
    {
     "name": "stdout",
     "output_type": "stream",
     "text": [
      "Epoch train loss: 0.26586525234914826, validation loss: 6.833163887262344\n",
      "---------------------------------------------------------\n",
      "[Epoch 92 / 100]\n",
      "Input German sentence: ein boot mit mehreren männern darauf wird von einem großen pferdegespann ans ufer gezogen.\n"
     ]
    },
    {
     "name": "stderr",
     "output_type": "stream",
     "text": [
      "\r",
      "  0%|          | 0/454 [00:00<?, ?it/s]"
     ]
    },
    {
     "name": "stdout",
     "output_type": "stream",
     "text": [
      "\n",
      "Translated Sentence: a boat carrying several men is pulled to shore by a large team of horses . <eos>\n"
     ]
    },
    {
     "name": "stderr",
     "output_type": "stream",
     "text": [
      "100%|██████████| 454/454 [01:40<00:00,  4.52it/s]\n",
      "100%|██████████| 16/16 [00:01<00:00, 15.90it/s]\n"
     ]
    },
    {
     "name": "stdout",
     "output_type": "stream",
     "text": [
      "Epoch train loss: 0.26431647753794285, validation loss: 6.829681009054184\n",
      "---------------------------------------------------------\n",
      "[Epoch 93 / 100]\n",
      "Input German sentence: ein boot mit mehreren männern darauf wird von einem großen pferdegespann ans ufer gezogen.\n"
     ]
    },
    {
     "name": "stderr",
     "output_type": "stream",
     "text": [
      "\r",
      "  0%|          | 0/454 [00:00<?, ?it/s]"
     ]
    },
    {
     "name": "stdout",
     "output_type": "stream",
     "text": [
      "\n",
      "Translated Sentence: a boat carrying several men is pulled to shore by a large team of horses horses . <eos>\n"
     ]
    },
    {
     "name": "stderr",
     "output_type": "stream",
     "text": [
      "100%|██████████| 454/454 [01:40<00:00,  4.52it/s]\n",
      "100%|██████████| 16/16 [00:01<00:00, 15.93it/s]\n"
     ]
    },
    {
     "name": "stdout",
     "output_type": "stream",
     "text": [
      "Epoch train loss: 0.2549904884959239, validation loss: 6.855932652950287\n",
      "---------------------------------------------------------\n",
      "[Epoch 94 / 100]\n",
      "Input German sentence: ein boot mit mehreren männern darauf wird von einem großen pferdegespann ans ufer gezogen.\n"
     ]
    },
    {
     "name": "stderr",
     "output_type": "stream",
     "text": [
      "\r",
      "  0%|          | 0/454 [00:00<?, ?it/s]"
     ]
    },
    {
     "name": "stdout",
     "output_type": "stream",
     "text": [
      "\n",
      "Translated Sentence: a boat carrying several men is pulled to shore by a large team of horses . <eos>\n"
     ]
    },
    {
     "name": "stderr",
     "output_type": "stream",
     "text": [
      "100%|██████████| 454/454 [01:40<00:00,  4.51it/s]\n",
      "100%|██████████| 16/16 [00:00<00:00, 16.03it/s]\n"
     ]
    },
    {
     "name": "stdout",
     "output_type": "stream",
     "text": [
      "Epoch train loss: 0.25944434796431254, validation loss: 6.917076528072357\n",
      "---------------------------------------------------------\n",
      "[Epoch 95 / 100]\n",
      "Input German sentence: ein boot mit mehreren männern darauf wird von einem großen pferdegespann ans ufer gezogen.\n"
     ]
    },
    {
     "name": "stderr",
     "output_type": "stream",
     "text": [
      "\r",
      "  0%|          | 0/454 [00:00<?, ?it/s]"
     ]
    },
    {
     "name": "stdout",
     "output_type": "stream",
     "text": [
      "\n",
      "Translated Sentence: a boat carrying several men is pulled by shore by a large team of horses . <eos>\n"
     ]
    },
    {
     "name": "stderr",
     "output_type": "stream",
     "text": [
      "100%|██████████| 454/454 [01:40<00:00,  4.51it/s]\n",
      "100%|██████████| 16/16 [00:01<00:00, 15.95it/s]\n"
     ]
    },
    {
     "name": "stdout",
     "output_type": "stream",
     "text": [
      "Epoch train loss: 0.25684360230940556, validation loss: 6.918120205402374\n",
      "---------------------------------------------------------\n",
      "[Epoch 96 / 100]\n",
      "Input German sentence: ein boot mit mehreren männern darauf wird von einem großen pferdegespann ans ufer gezogen.\n"
     ]
    },
    {
     "name": "stderr",
     "output_type": "stream",
     "text": [
      "\r",
      "  0%|          | 0/454 [00:00<?, ?it/s]"
     ]
    },
    {
     "name": "stdout",
     "output_type": "stream",
     "text": [
      "\n",
      "Translated Sentence: a boat carrying several men is pulled to shore by a large team of horses . <eos>\n"
     ]
    },
    {
     "name": "stderr",
     "output_type": "stream",
     "text": [
      "100%|██████████| 454/454 [01:40<00:00,  4.51it/s]\n",
      "100%|██████████| 16/16 [00:01<00:00, 15.97it/s]\n"
     ]
    },
    {
     "name": "stdout",
     "output_type": "stream",
     "text": [
      "Epoch train loss: 0.2583911662371542, validation loss: 6.92688861489296\n",
      "---------------------------------------------------------\n",
      "[Epoch 97 / 100]\n",
      "Input German sentence: ein boot mit mehreren männern darauf wird von einem großen pferdegespann ans ufer gezogen.\n"
     ]
    },
    {
     "name": "stderr",
     "output_type": "stream",
     "text": [
      "\r",
      "  0%|          | 0/454 [00:00<?, ?it/s]"
     ]
    },
    {
     "name": "stdout",
     "output_type": "stream",
     "text": [
      "\n",
      "Translated Sentence: a boat carrying several men is pulled to shore by a large team of horses . <eos>\n"
     ]
    },
    {
     "name": "stderr",
     "output_type": "stream",
     "text": [
      "100%|██████████| 454/454 [01:40<00:00,  4.51it/s]\n",
      "100%|██████████| 16/16 [00:01<00:00, 15.91it/s]\n"
     ]
    },
    {
     "name": "stdout",
     "output_type": "stream",
     "text": [
      "Epoch train loss: 0.2535381567816246, validation loss: 6.940008997917175\n",
      "---------------------------------------------------------\n",
      "[Epoch 98 / 100]\n",
      "Input German sentence: ein boot mit mehreren männern darauf wird von einem großen pferdegespann ans ufer gezogen.\n"
     ]
    },
    {
     "name": "stderr",
     "output_type": "stream",
     "text": [
      "\r",
      "  0%|          | 0/454 [00:00<?, ?it/s]"
     ]
    },
    {
     "name": "stdout",
     "output_type": "stream",
     "text": [
      "\n",
      "Translated Sentence: a boat carrying several men is pulled to shore by a large team of horses . <eos>\n"
     ]
    },
    {
     "name": "stderr",
     "output_type": "stream",
     "text": [
      "100%|██████████| 454/454 [01:40<00:00,  4.51it/s]\n",
      "100%|██████████| 16/16 [00:01<00:00, 15.95it/s]\n"
     ]
    },
    {
     "name": "stdout",
     "output_type": "stream",
     "text": [
      "Epoch train loss: 0.2544621803473665, validation loss: 7.051888674497604\n",
      "---------------------------------------------------------\n",
      "[Epoch 99 / 100]\n",
      "Input German sentence: ein boot mit mehreren männern darauf wird von einem großen pferdegespann ans ufer gezogen.\n"
     ]
    },
    {
     "name": "stderr",
     "output_type": "stream",
     "text": [
      "\r",
      "  0%|          | 0/454 [00:00<?, ?it/s]"
     ]
    },
    {
     "name": "stdout",
     "output_type": "stream",
     "text": [
      "\n",
      "Translated Sentence: a boat carrying several men is pulled to shore by a large team of horses . <eos>\n"
     ]
    },
    {
     "name": "stderr",
     "output_type": "stream",
     "text": [
      "100%|██████████| 454/454 [01:40<00:00,  4.51it/s]\n",
      "100%|██████████| 16/16 [00:01<00:00, 15.90it/s]\n"
     ]
    },
    {
     "name": "stdout",
     "output_type": "stream",
     "text": [
      "Epoch train loss: 0.24868689214047618, validation loss: 7.000535815954208\n",
      "---------------------------------------------------------\n",
      "[Epoch 100 / 100]\n",
      "Input German sentence: ein boot mit mehreren männern darauf wird von einem großen pferdegespann ans ufer gezogen.\n"
     ]
    },
    {
     "name": "stderr",
     "output_type": "stream",
     "text": [
      "\r",
      "  0%|          | 0/454 [00:00<?, ?it/s]"
     ]
    },
    {
     "name": "stdout",
     "output_type": "stream",
     "text": [
      "\n",
      "Translated Sentence: a boat carrying several men is pulled to shore by a large team of horses . <eos>\n"
     ]
    },
    {
     "name": "stderr",
     "output_type": "stream",
     "text": [
      "100%|██████████| 454/454 [01:40<00:00,  4.51it/s]\n",
      "100%|██████████| 16/16 [00:00<00:00, 16.01it/s]\n"
     ]
    },
    {
     "name": "stdout",
     "output_type": "stream",
     "text": [
      "Epoch train loss: 0.250396932266029, validation loss: 6.987092316150665\n",
      "Bleu score: 19.521733011198553\n"
     ]
    }
   ],
   "source": [
    "import torch\n",
    "import torch.nn as nn\n",
    "import torch.optim as optim\n",
    "from torchtext.datasets import Multi30k\n",
    "from torchtext.data import Field, BucketIterator\n",
    "import numpy as np\n",
    "import spacy\n",
    "import random\n",
    "from torchtext.data.metrics import bleu_score\n",
    "from tqdm import tqdm\n",
    "\n",
    "\n",
    "\n",
    "class Encoder(nn.Module):\n",
    "    def __init__(self, input_size, embedding_size, hidden_size, num_layers, drop):\n",
    "        super(Encoder, self).__init__()\n",
    "\n",
    "        self.dropout = nn.Dropout(drop)\n",
    "        self.embedding = nn.Embedding(input_size, embedding_size)\n",
    "        self.rnn = nn.LSTM(embedding_size, hidden_size, num_layers, dropout=drop)\n",
    "\n",
    "    def forward(self, x):\n",
    "        embedding = self.embedding(x) # x -> [seq_L, bs]\n",
    "\n",
    "        embedding_d = self.dropout(embedding) # embedding -> [seq_L, bs, emb_size]\n",
    "        \n",
    "        outputs, (hidden, cell) = self.rnn(embedding_d) \n",
    "        # outputs -> [seq_L, bs, hidden_size]\n",
    "        # hidden -> [num_layers, bs, hidden_size]\n",
    "        # cell -> [num_layers, bs, hidden_size]\n",
    "\n",
    "        return hidden, cell\n",
    "\n",
    "class Decoder(nn.Module):\n",
    "    def __init__(self, input_size, embedding_size, hidden_size, output_size, num_layers, drop):\n",
    "        super(Decoder, self).__init__()\n",
    "\n",
    "        self.dropout = nn.Dropout(drop)\n",
    "        self.embedding = nn.Embedding(input_size, embedding_size)\n",
    "        self.rnn = nn.LSTM(embedding_size, hidden_size, num_layers, dropout= drop)\n",
    "        self.fc = nn.Linear(hidden_size, output_size)\n",
    "\n",
    "    def forward(self, x, hidden, cell):\n",
    "        x_u = x.unsqueeze(0) # x -> [bs]\n",
    "\n",
    "        embedding = self.embedding(x_u) # x_u -> [1, bs]\n",
    "\n",
    "        embedding_d = self.dropout(embedding) # embedding -> [1, bs, emb_size]\n",
    "\n",
    "        outputs, (hidden, cell) = self.rnn(embedding_d, (hidden, cell))\n",
    "        # outputs -> [1, bs, hidden_size]\n",
    "        # hidden -> [2, bs, hidden_size]\n",
    "        # cell -> [2, bs, hidden_size]\n",
    "\n",
    "        predictions = self.fc(outputs)\n",
    "        # predictions -> [1, bs, len(TRG_eng.vocab)]\n",
    "\n",
    "        predictions = predictions.squeeze(0)\n",
    "        ## predictions -> [bs, len(TRG_eng.vocab)]\n",
    "\n",
    "        return predictions, hidden, cell\n",
    "\n",
    "class Seq2Seq(nn.Module):\n",
    "    def __init__(self, encoder, decoder, device):\n",
    "        super(Seq2Seq, self).__init__()\n",
    "        self.encoder = encoder\n",
    "        self.decoder = decoder\n",
    "        self.device = device\n",
    "\n",
    "    def forward(self, source, target, teacher_force_ratio=0.5):\n",
    "        # source -> [source_len, bs]\n",
    "        # target -> [target_len, bs]\n",
    "        batch_size = source.shape[1]\n",
    "        target_len = target.shape[0]        \n",
    "        target_vocab_size = len(TRG_eng.vocab)\n",
    "\n",
    "        hidden, cell = self.encoder(source)\n",
    "\n",
    "        outputs = torch.zeros(target_len, batch_size, target_vocab_size).to(self.device)\n",
    "\n",
    "        x = target[0, :] # grab the first token i.e. <SOS> of all examples of a batch\n",
    "\n",
    "        for t in range(1, target_len):\n",
    "            # Use previous hidden, cell as context from encoder at start\n",
    "            output, hidden, cell = self.decoder(x, hidden, cell)\n",
    "\n",
    "            # Store next output prediction\n",
    "            outputs[t] = output\n",
    "\n",
    "            # Get the best word the Decoder predicted (index in the vocabulary)\n",
    "            best_guess = output.argmax(1)\n",
    "\n",
    "            x = target[t] if random.random() < teacher_force_ratio else best_guess\n",
    "\n",
    "        return outputs\n",
    "\n",
    "def train(model, iterator, optimizer, criterion, clip):\n",
    "    model.train()\n",
    "    epoch_loss = 0\n",
    "\n",
    "    for _ , batch in tqdm(enumerate(iterator), total=len(iterator)):\n",
    "        inp_data = batch.src.to(device)           \n",
    "        target = batch.trg.to(device)\n",
    "\n",
    "        output = model(inp_data, target) # output -> [target/out_len, bs, len(english vocab)]\n",
    "\n",
    "        output = output[1:].reshape(-1, output.shape[2]) \n",
    "        # output[1:] -> ignore [0] the token <SOS>\n",
    "        # output size after reshape -> [target/op len * bs , len(english vocab)]\n",
    "\n",
    "        target = target[1:].reshape(-1) # target after reshape -> [target/op len * bs]\n",
    "\n",
    "        optimizer.zero_grad()\n",
    "        loss = criterion(output, target)\n",
    "        loss.backward()\n",
    "\n",
    "        # Clip to avoid exploding gradient issues\n",
    "        torch.nn.utils.clip_grad_norm_(model.parameters(), max_norm= clip)\n",
    "        \n",
    "        optimizer.step()\n",
    "\n",
    "        epoch_loss += loss.item()\n",
    "\n",
    "    return epoch_loss / len(iterator)\n",
    "\n",
    "\n",
    "def evaluate(model, iterator, criterion):\n",
    "    model.eval()\n",
    "    epoch_loss = 0\n",
    "\n",
    "    with torch.no_grad():\n",
    "\n",
    "        for _,batch in tqdm(enumerate(iterator), total=len(iterator)):\n",
    "            inp_data = batch.src.to(device)           \n",
    "            target = batch.trg.to(device)\n",
    "\n",
    "            output = model(inp_data, target, teacher_force_ratio= 0)  # turn off teacher force\n",
    "\n",
    "            output = output[1:].reshape(-1, output.shape[2])\n",
    "            target = target[1:].reshape(-1)\n",
    "\n",
    "            loss = criterion(output, target)\n",
    "\n",
    "            epoch_loss += loss.item()\n",
    "\n",
    "    return epoch_loss / len(iterator)\n",
    "\n",
    "\n",
    "def translate_sentence(model, sentence, SRC , TRG, device, max_length=50):\n",
    "    spacy_ger = spacy.load(\"de\")\n",
    "\n",
    "    # Create tokens using spacy and everything in lower case (which is what our vocab is)\n",
    "    if type(sentence) == str:\n",
    "        tokens = [token.text.lower() for token in spacy_ger(sentence)]\n",
    "    else:\n",
    "        tokens = [token.lower() for token in sentence]\n",
    "        \n",
    "    # Add <SOS> and <EOS> in beginning and end respectively\n",
    "    tokens.insert(0, SRC.init_token)\n",
    "    tokens.append(SRC.eos_token)\n",
    "\n",
    "    # Go through each german token and convert to an index\n",
    "    text_to_indices = [SRC.vocab.stoi[token] for token in tokens]\n",
    "\n",
    "    # Convert to Tensor\n",
    "    sentence_tensor = torch.LongTensor(text_to_indices).unsqueeze(1).to(device)\n",
    "\n",
    "\n",
    "    # Build encoder hidden, cell state\n",
    "    with torch.no_grad():\n",
    "        hidden, cell = model.encoder(sentence_tensor)\n",
    "\n",
    "    outputs = [TRG.vocab.stoi[\"<sos>\"]]\n",
    "\n",
    "    for _ in range(max_length):\n",
    "        previous_word = torch.LongTensor([outputs[-1]]).to(device)\n",
    "\n",
    "        with torch.no_grad():\n",
    "            output, hidden, cell = model.decoder(previous_word, hidden, cell)\n",
    "            best_guess = output.argmax(1).item()\n",
    "\n",
    "        outputs.append(best_guess)\n",
    "\n",
    "        # Model predicts it's the end of the sentence\n",
    "        if output.argmax(1).item() == TRG.vocab.stoi[\"<eos>\"]:\n",
    "            break\n",
    "\n",
    "    translated_sentence = [TRG.vocab.itos[idx] for idx in outputs]\n",
    "\n",
    "    # remove start token\n",
    "    return translated_sentence[1:]\n",
    "\n",
    "\n",
    "def bleu(data, model, SRC, TRG, device):\n",
    "    targets = []\n",
    "    outputs = []\n",
    "\n",
    "    for example in data:\n",
    "        src = vars(example)[\"src\"]\n",
    "        trg = vars(example)[\"trg\"]\n",
    "\n",
    "        prediction = translate_sentence(model, src, SRC, TRG, device)\n",
    "        prediction = prediction[:-1]  # remove <eos> token\n",
    "        outputs.append(prediction)\n",
    "\n",
    "        targets.append([trg])\n",
    "        \n",
    "    return bleu_score(outputs, targets)\n",
    "\n",
    "\n",
    "if __name__ == \"__main__\" :\n",
    "\n",
    "    SRC_ger = Field(tokenize='spacy', tokenizer_language='de', lower=True, init_token=\"<sos>\", eos_token=\"<eos>\")\n",
    "    TRG_eng = Field(tokenize='spacy', tokenizer_language='en', lower=True, init_token=\"<sos>\", eos_token=\"<eos>\")\n",
    "\n",
    "    train_data, valid_data, test_data = Multi30k.splits(exts=(\".de\", \".en\"), fields=(SRC_ger, TRG_eng))\n",
    "\n",
    "    SRC_ger.build_vocab(train_data, max_size=10000, min_freq=2)\n",
    "    TRG_eng.build_vocab(train_data, max_size=10000, min_freq=2)\n",
    "\n",
    "    # print(SRC_ger.vocab.stoi), print(TRG_eng.vocab.stoi)\n",
    "\n",
    "    num_epochs = 100\n",
    "    learning_rate = 0.001\n",
    "    batch_size = 64\n",
    "    device = torch.device(\"cuda\" if torch.cuda.is_available() else \"cpu\")\n",
    "    print('device:',device)\n",
    "    input_size_encoder = len(SRC_ger.vocab)\n",
    "    input_size_decoder = len(TRG_eng.vocab)\n",
    "    output_size = len(TRG_eng.vocab)\n",
    "    encoder_embedding_size = 300\n",
    "    decoder_embedding_size = 300\n",
    "    hidden_size = 1024  # Needs to be the same for both encoder and decoder RNNs\n",
    "    num_layers = 2\n",
    "    enc_dropout = 0.5\n",
    "    dec_dropout = 0.5\n",
    "    sort_key=lambda x: len(x.src)\n",
    "    pad_idx = TRG_eng.vocab.stoi[\"<pad>\"]\n",
    "    sentence = \"ein boot mit mehreren männern darauf wird von einem großen pferdegespann ans ufer gezogen.\"\n",
    "\n",
    "\n",
    "    train_iterator, valid_iterator, test_iterator = BucketIterator.splits(\n",
    "        (train_data, valid_data, test_data),\n",
    "        batch_size=batch_size,\n",
    "        sort_within_batch=True,\n",
    "        sort_key=sort_key,\n",
    "        device=device,\n",
    "    )\n",
    "\n",
    "    encoder_net = Encoder(input_size_encoder, encoder_embedding_size, hidden_size, num_layers, enc_dropout).to(device)\n",
    "\n",
    "    decoder_net = Decoder(input_size_decoder, decoder_embedding_size, hidden_size, output_size, num_layers, dec_dropout).to(device)\n",
    "\n",
    "    model = Seq2Seq(encoder_net, decoder_net, device).to(device)\n",
    "\n",
    "    optimizer = optim.Adam(model.parameters(), lr=learning_rate)\n",
    "\n",
    "    criterion = nn.CrossEntropyLoss(ignore_index=pad_idx)\n",
    "\n",
    "\n",
    "    for epoch in range(num_epochs):\n",
    "        print('---------------------------------------------------------')\n",
    "        print(f\"[Epoch {epoch + 1} / {num_epochs}]\")\n",
    "        \n",
    "        print('Input German sentence:', sentence)\n",
    "        translated_sentence = translate_sentence(model, sentence, SRC_ger , TRG_eng, device, max_length=50)\n",
    "        print('\\nTranslated Sentence:',' '.join(translated_sentence))\n",
    "        \n",
    "        train_loss = train(model, train_iterator, optimizer, criterion, clip=0.5)\n",
    "        val_loss = evaluate(model, valid_iterator, criterion)\n",
    "                \n",
    "        print(f'Epoch train loss: {train_loss}, validation loss: {val_loss}') \n",
    "        \n",
    "        if (epoch+1)%15 == 0:\n",
    "            save_path = f'/content/drive/My Drive/Jovian/mt/epoch{epoch+1}.pth'\n",
    "            torch.save(model, save_path)\n",
    "\n",
    "    save_path = f'/content/drive/My Drive/Jovian/mt/final.pth'\n",
    "    torch.save(model, save_path)\n",
    "    score = bleu(test_data[1:100], model, SRC_ger, TRG_eng, device)\n",
    "    print(f\"Bleu score: {score*100}\")"
   ]
  },
  {
   "cell_type": "code",
   "execution_count": null,
   "metadata": {
    "id": "98LrdCB4AdNM"
   },
   "outputs": [
    {
     "data": {
      "application/javascript": [
       "window.require && require([\"base/js/namespace\"],function(Jupyter){Jupyter.notebook.save_checkpoint()})"
      ],
      "text/plain": [
       "<IPython.core.display.Javascript object>"
      ]
     },
     "metadata": {},
     "output_type": "display_data"
    },
    {
     "name": "stdout",
     "output_type": "stream",
     "text": [
      "[jovian] Attempting to save notebook..\r\n"
     ]
    }
   ],
   "source": [
    "import jovian\n",
    "jovian.commit(project='machine-translation')"
   ]
  },
  {
   "cell_type": "code",
   "execution_count": null,
   "metadata": {},
   "outputs": [],
   "source": []
  }
 ],
 "metadata": {
  "accelerator": "GPU",
  "colab": {
   "name": "mt-nightly.ipynb",
   "provenance": []
  },
  "kernelspec": {
   "display_name": "Python 3",
   "language": "python",
   "name": "python3"
  },
  "language_info": {
   "codemirror_mode": {
    "name": "ipython",
    "version": 3
   },
   "file_extension": ".py",
   "mimetype": "text/x-python",
   "name": "python",
   "nbconvert_exporter": "python",
   "pygments_lexer": "ipython3",
   "version": "3.8.3"
  }
 },
 "nbformat": 4,
 "nbformat_minor": 1
}
